{
  "nbformat": 4,
  "nbformat_minor": 0,
  "metadata": {
    "colab": {
      "provenance": [],
      "mount_file_id": "1MyILEm4u4Bu1E8FBOVOFt2BOlaqnHPfc",
      "authorship_tag": "ABX9TyMjysH0FbHbTAfOpqLJu8bO",
      "include_colab_link": true
    },
    "kernelspec": {
      "name": "python3",
      "display_name": "Python 3"
    },
    "language_info": {
      "name": "python"
    }
  },
  "cells": [
    {
      "cell_type": "markdown",
      "metadata": {
        "id": "view-in-github",
        "colab_type": "text"
      },
      "source": [
        "<a href=\"https://colab.research.google.com/github/KellyKimGit/Daddypeak_NLP/blob/main/%ED%85%8D%EC%8A%A4%ED%8A%B8%EC%A0%84%EC%B2%98%EB%A6%AC.ipynb\" target=\"_parent\"><img src=\"https://colab.research.google.com/assets/colab-badge.svg\" alt=\"Open In Colab\"/></a>"
      ]
    },
    {
      "cell_type": "code",
      "execution_count": 1,
      "metadata": {
        "id": "5Y66tS1TRZjV"
      },
      "outputs": [],
      "source": [
        "import numpy as np\n",
        "import pandas as pd\n",
        "import io\n",
        "import re"
      ]
    },
    {
      "cell_type": "code",
      "source": [
        "# 텍스트 내용(csv 파일) 불러오기\n",
        "#data = pd.read_csv(\"/content/drive/MyDrive/Daddypeak/의좋은_형제.csv\")\n",
        "#data.head()\n",
        "# 텍스트 로드\n",
        "file_path = '/content/drive/MyDrive/fairy_tale_book.txt'\n",
        "with open(file_path, 'r', encoding='utf-8') as file:\n",
        "    lines = file.readlines()"
      ],
      "metadata": {
        "id": "IxbG9U-ZRbAK"
      },
      "execution_count": 2,
      "outputs": []
    },
    {
      "cell_type": "code",
      "source": [
        "# konlpy 설치\n",
        "! pip install konlpy\n",
        "from konlpy.tag import Hannanum, Kkma, Komoran, Mecab, Okt"
      ],
      "metadata": {
        "id": "P_lJzmMvRdRI",
        "colab": {
          "base_uri": "https://localhost:8080/"
        },
        "outputId": "1369dfdc-18bf-431a-a325-0ebec55af0ca"
      },
      "execution_count": 3,
      "outputs": [
        {
          "output_type": "stream",
          "name": "stdout",
          "text": [
            "Collecting konlpy\n",
            "  Downloading konlpy-0.6.0-py2.py3-none-any.whl (19.4 MB)\n",
            "\u001b[2K     \u001b[90m━━━━━━━━━━━━━━━━━━━━━━━━━━━━━━━━━━━━━━━━\u001b[0m \u001b[32m19.4/19.4 MB\u001b[0m \u001b[31m48.5 MB/s\u001b[0m eta \u001b[36m0:00:00\u001b[0m\n",
            "\u001b[?25hCollecting JPype1>=0.7.0 (from konlpy)\n",
            "  Downloading JPype1-1.4.1-cp310-cp310-manylinux_2_12_x86_64.manylinux2010_x86_64.whl (465 kB)\n",
            "\u001b[2K     \u001b[90m━━━━━━━━━━━━━━━━━━━━━━━━━━━━━━━━━━━━━━\u001b[0m \u001b[32m465.3/465.3 kB\u001b[0m \u001b[31m26.0 MB/s\u001b[0m eta \u001b[36m0:00:00\u001b[0m\n",
            "\u001b[?25hRequirement already satisfied: lxml>=4.1.0 in /usr/local/lib/python3.10/dist-packages (from konlpy) (4.9.3)\n",
            "Requirement already satisfied: numpy>=1.6 in /usr/local/lib/python3.10/dist-packages (from konlpy) (1.22.4)\n",
            "Requirement already satisfied: packaging in /usr/local/lib/python3.10/dist-packages (from JPype1>=0.7.0->konlpy) (23.1)\n",
            "Installing collected packages: JPype1, konlpy\n",
            "Successfully installed JPype1-1.4.1 konlpy-0.6.0\n"
          ]
        }
      ]
    },
    {
      "cell_type": "code",
      "source": [
        "# csv 파일 지정\n",
        "#text = pd.read_csv(\"/content/drive/MyDrive/Daddypeak/의좋은_형제.csv\").to_string(columns=['Unnamed: 0'])\n",
        "\n",
        "# Create a DataFrame from the loaded text\n",
        "data = pd.DataFrame({'Unnamed: 0': lines})\n",
        "\n",
        "# Extract 'Unnamed: 0' column as text\n",
        "text = data['Unnamed: 0'].to_string(index=False)"
      ],
      "metadata": {
        "id": "hYAJp_ImRfaF"
      },
      "execution_count": 4,
      "outputs": []
    },
    {
      "cell_type": "code",
      "source": [
        "!pip install kss"
      ],
      "metadata": {
        "colab": {
          "base_uri": "https://localhost:8080/"
        },
        "id": "_uqUnEodaYW2",
        "outputId": "2d408890-98f8-4d6f-a2d5-a057cdb9d6ac"
      },
      "execution_count": 7,
      "outputs": [
        {
          "output_type": "stream",
          "name": "stdout",
          "text": [
            "Collecting kss\n",
            "  Downloading kss-4.5.4.tar.gz (79 kB)\n",
            "\u001b[2K     \u001b[90m━━━━━━━━━━━━━━━━━━━━━━━━━━━━━━━━━━━━━━━━\u001b[0m \u001b[32m79.1/79.1 kB\u001b[0m \u001b[31m3.3 MB/s\u001b[0m eta \u001b[36m0:00:00\u001b[0m\n",
            "\u001b[?25h  Preparing metadata (setup.py) ... \u001b[?25l\u001b[?25hdone\n",
            "Collecting emoji==1.2.0 (from kss)\n",
            "  Downloading emoji-1.2.0-py3-none-any.whl (131 kB)\n",
            "\u001b[2K     \u001b[90m━━━━━━━━━━━━━━━━━━━━━━━━━━━━━━━━━━━━━━━\u001b[0m \u001b[32m131.3/131.3 kB\u001b[0m \u001b[31m6.5 MB/s\u001b[0m eta \u001b[36m0:00:00\u001b[0m\n",
            "\u001b[?25hRequirement already satisfied: regex in /usr/local/lib/python3.10/dist-packages (from kss) (2022.10.31)\n",
            "Collecting pecab (from kss)\n",
            "  Downloading pecab-1.0.8.tar.gz (26.4 MB)\n",
            "\u001b[2K     \u001b[90m━━━━━━━━━━━━━━━━━━━━━━━━━━━━━━━━━━━━━━━━\u001b[0m \u001b[32m26.4/26.4 MB\u001b[0m \u001b[31m46.5 MB/s\u001b[0m eta \u001b[36m0:00:00\u001b[0m\n",
            "\u001b[?25h  Preparing metadata (setup.py) ... \u001b[?25l\u001b[?25hdone\n",
            "Requirement already satisfied: networkx in /usr/local/lib/python3.10/dist-packages (from kss) (3.1)\n",
            "Requirement already satisfied: numpy in /usr/local/lib/python3.10/dist-packages (from pecab->kss) (1.22.4)\n",
            "Requirement already satisfied: pyarrow in /usr/local/lib/python3.10/dist-packages (from pecab->kss) (9.0.0)\n",
            "Requirement already satisfied: pytest in /usr/local/lib/python3.10/dist-packages (from pecab->kss) (7.2.2)\n",
            "Requirement already satisfied: attrs>=19.2.0 in /usr/local/lib/python3.10/dist-packages (from pytest->pecab->kss) (23.1.0)\n",
            "Requirement already satisfied: iniconfig in /usr/local/lib/python3.10/dist-packages (from pytest->pecab->kss) (2.0.0)\n",
            "Requirement already satisfied: packaging in /usr/local/lib/python3.10/dist-packages (from pytest->pecab->kss) (23.1)\n",
            "Requirement already satisfied: pluggy<2.0,>=0.12 in /usr/local/lib/python3.10/dist-packages (from pytest->pecab->kss) (1.2.0)\n",
            "Requirement already satisfied: exceptiongroup>=1.0.0rc8 in /usr/local/lib/python3.10/dist-packages (from pytest->pecab->kss) (1.1.2)\n",
            "Requirement already satisfied: tomli>=1.0.0 in /usr/local/lib/python3.10/dist-packages (from pytest->pecab->kss) (2.0.1)\n",
            "Building wheels for collected packages: kss, pecab\n",
            "  Building wheel for kss (setup.py) ... \u001b[?25l\u001b[?25hdone\n",
            "  Created wheel for kss: filename=kss-4.5.4-py3-none-any.whl size=54467 sha256=978eccc047eb05340d4f2e52e594b063735e251ff25df159602c288001e83528\n",
            "  Stored in directory: /root/.cache/pip/wheels/61/7b/ba/e620ef5d96a61cdd83bdee4c2bb4aec8a74de5d72fcbb00e80\n",
            "  Building wheel for pecab (setup.py) ... \u001b[?25l\u001b[?25hdone\n",
            "  Created wheel for pecab: filename=pecab-1.0.8-py3-none-any.whl size=26646666 sha256=1126e6bf273bd4b6e372fbeca899d47ae0813f49bbc4aabbdf6971c21b3b8edc\n",
            "  Stored in directory: /root/.cache/pip/wheels/5c/6f/b4/ab61b8863d7d8b1409def8ae31adcaa089fa91b8d022ec309d\n",
            "Successfully built kss pecab\n",
            "Installing collected packages: emoji, pecab, kss\n",
            "Successfully installed emoji-1.2.0 kss-4.5.4 pecab-1.0.8\n"
          ]
        }
      ]
    },
    {
      "cell_type": "code",
      "source": [
        "import kss\n",
        "\n",
        "sentence_tokenized_text = []\n",
        "for line in lines:\n",
        "    line = line.strip()\n",
        "    for sent in kss.split_sentences(line):\n",
        "        sentence_tokenized_text.append(sent.strip())"
      ],
      "metadata": {
        "colab": {
          "base_uri": "https://localhost:8080/"
        },
        "id": "iygRcOSEaY9Y",
        "outputId": "0b8024fa-3c0d-4940-c372-a478b389ed53"
      },
      "execution_count": 8,
      "outputs": [
        {
          "output_type": "stream",
          "name": "stderr",
          "text": [
            "WARNING:root:Because there's no supported C++ morpheme analyzer, Kss will take pecab as a backend. :D\n",
            "For your information, Kss also supports mecab backend.\n",
            "We recommend you to install mecab or konlpy.tag.Mecab for faster execution of Kss.\n",
            "Please refer to following web sites for details:\n",
            "- mecab: https://github.com/hyunwoongko/python-mecab-kor\n",
            "- konlpy.tag.Mecab: https://konlpy.org/en/latest/api/konlpy.tag/#mecab-class\n",
            "\n"
          ]
        }
      ]
    },
    {
      "cell_type": "markdown",
      "metadata": {
        "id": "HCh0BLJdLJDZ"
      },
      "source": [
        "이제 `sentence_tokenized_text`에 문장 단위로 분리된 corpus가 저장되었습니다."
      ]
    },
    {
      "cell_type": "code",
      "source": [
        "punct = \"/-'?!.,#$%\\'()*+-/:;<=>@[\\\\]^_`{|}~\" + '\"\"“”’' + '∞θ÷α•à−β∅³π‘₹´°£€\\×™√²—–&'"
      ],
      "metadata": {
        "id": "7WkagFYtacZp"
      },
      "execution_count": 9,
      "outputs": []
    },
    {
      "cell_type": "code",
      "metadata": {
        "id": "p25OOozUYJV6"
      },
      "source": [
        "punct_mapping = {\"‘\": \"'\", \"₹\": \"e\", \"´\": \"'\", \"°\": \"\", \"€\": \"e\", \"™\": \"tm\", \"√\": \" sqrt \", \"×\": \"x\", \"²\": \"2\", \"—\": \"-\", \"–\": \"-\", \"’\": \"'\", \"_\": \"-\", \"`\": \"'\", '“': '\"', '”': '\"', '“': '\"', \"£\": \"e\", '∞': 'infinity', 'θ': 'theta', '÷': '/', 'α': 'alpha', '•': '.', 'à': 'a', '−': '-', 'β': 'beta', '∅': '', '³': '3', 'π': 'pi', }"
      ],
      "execution_count": 10,
      "outputs": []
    },
    {
      "cell_type": "code",
      "metadata": {
        "id": "RHJ2_j9kYLco"
      },
      "source": [
        "def clean_punc(text, punct, mapping):\n",
        "    for p in mapping:\n",
        "        text = text.replace(p, mapping[p])\n",
        "\n",
        "    for p in punct:\n",
        "        text = text.replace(p, f' {p} ')\n",
        "\n",
        "    specials = {'\\u200b': ' ', '…': ' ... ', '\\ufeff': '', 'करना': '', 'है': ''}\n",
        "    for s in specials:\n",
        "        text = text.replace(s, specials[s])\n",
        "\n",
        "    return text.strip()"
      ],
      "execution_count": 11,
      "outputs": []
    },
    {
      "cell_type": "code",
      "metadata": {
        "id": "FFLuqnyhNBPS"
      },
      "source": [
        "cleaned_corpus = []\n",
        "for sent in sentence_tokenized_text:\n",
        "    cleaned_corpus.append(clean_punc(sent, punct, punct_mapping))"
      ],
      "execution_count": 12,
      "outputs": []
    },
    {
      "cell_type": "code",
      "metadata": {
        "id": "4Im-PMTRNQJz",
        "colab": {
          "base_uri": "https://localhost:8080/"
        },
        "outputId": "c943a72d-29e6-4de2-eb9b-a5ef5ab6f5c9"
      },
      "source": [
        "for sentence in cleaned_corpus:\n",
        "    print(sentence)"
      ],
      "execution_count": 13,
      "outputs": [
        {
          "output_type": "stream",
          "name": "stdout",
          "text": [
            "농사가 그리 잘 되지는 못했으나 ,  가을이 되어 만곡이 익으매 그래도 농가\n",
            "에서들은 기쁜 마음으로 벼를 베느라고 바빴습니다 .\n",
            "성칠이도 동네 사람들의 조력을 얻어 가지고 자기 논의 벼를 베어서 ,  논두\n",
            "덕에 널어 두었습니다 .\n",
            "며칠간 햇볕에 말려서 거둬들일 작정이었습니다 .\n",
            "\"  나는 딸리는 식구가 없으니까 염려 없지마는 ,  형님은 식구가 많아서 ,  금\n",
            "년같이 풍년들지 못한 해에는 지내시기가 곤란하실 터인데 ...  ...  .   \"\n",
            "하루는 이런 생각이 나서 ,\n",
            "\"  오냐 ,  그냥 갖다 드리면 받지 않으실 것이니까 ,  밤중에 넌지시 내 논의\n",
            "벼를 옮겨다가 ,  형님 논두렁에 더 놓아 드려야겠다 .   \"\n",
            "하고 ,  그 날 밤에 형님도 동리 사람도 다 잠들기를 기다려서 넌지시 지게를\n",
            "지고 나가서 자기 논두렁의 벼를 여러 차례 옮겨다가 형님네 논두렁에 보태\n",
            "놓아 두고 돌아왔습니다 .\n",
            "그러나 ,  이상한 일입니다 .\n",
            "이튿날 나가 본즉 ,  훨씬 적어졌을 자기 논두렁\n",
            "의 벼는 조금도 적어지지 않고 ,  전에 있던 그대로 있습니다 .\n",
            "\"  아니 ,  내가 분명히 어젯밤에 형님 논으로 여러 짐을 져다 두었는데 ,  이\n",
            "것이 웬일일까 ?   \"\n",
            "하고 ,  형님 논으로 가 보니까 ,  거기도 전보다 별로 많아져 보이지 않습니\n",
            "다 .\n",
            "\"  아니 ,  내가 꿈을 꾼 것인가 ?   \"\n",
            "하고 ,  그 날 온종일 이상히 여기다가 그 날 밤에 또 동리 사람이 잠들기를\n",
            "기다려서 ,  넌지시 나가 자기 논의 벼를 여러 짐 져다가 형님의 논에 널어\n",
            "두었습니다 .\n",
            "그리고 ,  이튿날 나가 보니 참 이상합니다 .\n",
            "그래도 자기 논에는 벼가 줄지\n",
            "아니하였고 ,  형님 논에 늘지도 않았습니다 .\n",
            "\"  이건 참 귀신의 장난 같구나 !  대체 어찌된 까닭을 모르겠다 .   \"\n",
            "하고 ,  또 그 날 밤이 되기를 기다려서 ,  자기 논의 벼를 거둬서 짊어지고 형\n",
            "님 논으로 갔습니다 .\n",
            "마침 그 날은 날이 흐리어 별 하나도 없어서 몹시 캄캄하므로 ,  구렁에 빠\n",
            "지지 않으려고 길바닥만 보면서 가는데 ,  저편에서 무언지 시꺼먼 것이 이쪽\n",
            "으로 마주 오므로 깜짝 놀라서 발을 멈추고 우뚝 섰습니다 .\n",
            "\"  그거 누구요 ?   \"\n",
            "\"  그거 누구요 ?   \"\n",
            "둘이 맞닥뜨리자 양쪽에서 똑같이 이렇게 묻고 보니까 ,  저편에서 오는 것\n",
            "은 형님이었습니다 .\n",
            "형님 역시 동생 생각을 하고 ,  밤에 넌지시 나와서 ,  자기 논의 벼를 여러\n",
            "짐 져다가 동생의 논에 놓아 주었더니 이튿날 보니까 자기 벼가 적어지지도\n",
            "않고 ,  동생의 벼가 늘지도 않았으므로 ,  이상히 여겨 밤마다 넌지시 옮기다\n",
            "가 이날은 공교롭게 둘이 맞닥뜨린 것이었습니다 .\n",
            "그리하여 ,  형제는 서로 저편의 뜻을 감사히 받기 위하여 날마다 옮겨 나르\n",
            "던 벼를 서로 교환하며 먹었습니다 .\n",
            "〈《어린이》 7권 8호 ,  1929년 가을 특집호 ,  방정환〉\n"
          ]
        }
      ]
    },
    {
      "cell_type": "code",
      "metadata": {
        "id": "fVSpOZIoYOOJ"
      },
      "source": [
        "import re\n",
        "\n",
        "def clean_text(texts):\n",
        "    corpus = []\n",
        "    for i in range(0, len(texts)):\n",
        "        review = re.sub(r'[@%\\\\*=()/~#&\\+á?\\xc3\\xa1\\-\\|\\.\\:\\;\\!\\-\\,\\_\\~\\$\\'\\\"]', '',str(texts[i])) #remove punctuation\n",
        "        review = re.sub(r'\\d+','', str(texts[i]))# remove number\n",
        "        review = review.lower() #lower case\n",
        "        review = re.sub(r'\\s+', ' ', review) #remove extra space\n",
        "        review = re.sub(r'<[^>]+>','',review) #remove Html tags\n",
        "        review = re.sub(r'\\s+', ' ', review) #remove spaces\n",
        "        review = re.sub(r\"^\\s+\", '', review) #remove space from start\n",
        "        review = re.sub(r'\\s+$', '', review) #remove space from the end\n",
        "        corpus.append(review)\n",
        "    return corpus"
      ],
      "execution_count": 14,
      "outputs": []
    },
    {
      "cell_type": "code",
      "metadata": {
        "id": "wwvWW5AuOIFS"
      },
      "source": [
        "basic_preprocessed_corpus = clean_text(cleaned_corpus)"
      ],
      "execution_count": 15,
      "outputs": []
    },
    {
      "cell_type": "code",
      "metadata": {
        "id": "8JXT1xXdOaMh",
        "colab": {
          "base_uri": "https://localhost:8080/"
        },
        "outputId": "81c4a18f-d758-4544-d523-116dd63ee090"
      },
      "source": [
        "for i in range(len(basic_preprocessed_corpus)):\n",
        "    print(basic_preprocessed_corpus[i])"
      ],
      "execution_count": 16,
      "outputs": [
        {
          "output_type": "stream",
          "name": "stdout",
          "text": [
            "농사가 그리 잘 되지는 못했으나 , 가을이 되어 만곡이 익으매 그래도 농가\n",
            "에서들은 기쁜 마음으로 벼를 베느라고 바빴습니다 .\n",
            "성칠이도 동네 사람들의 조력을 얻어 가지고 자기 논의 벼를 베어서 , 논두\n",
            "덕에 널어 두었습니다 .\n",
            "며칠간 햇볕에 말려서 거둬들일 작정이었습니다 .\n",
            "\" 나는 딸리는 식구가 없으니까 염려 없지마는 , 형님은 식구가 많아서 , 금\n",
            "년같이 풍년들지 못한 해에는 지내시기가 곤란하실 터인데 ... ... . \"\n",
            "하루는 이런 생각이 나서 ,\n",
            "\" 오냐 , 그냥 갖다 드리면 받지 않으실 것이니까 , 밤중에 넌지시 내 논의\n",
            "벼를 옮겨다가 , 형님 논두렁에 더 놓아 드려야겠다 . \"\n",
            "하고 , 그 날 밤에 형님도 동리 사람도 다 잠들기를 기다려서 넌지시 지게를\n",
            "지고 나가서 자기 논두렁의 벼를 여러 차례 옮겨다가 형님네 논두렁에 보태\n",
            "놓아 두고 돌아왔습니다 .\n",
            "그러나 , 이상한 일입니다 .\n",
            "이튿날 나가 본즉 , 훨씬 적어졌을 자기 논두렁\n",
            "의 벼는 조금도 적어지지 않고 , 전에 있던 그대로 있습니다 .\n",
            "\" 아니 , 내가 분명히 어젯밤에 형님 논으로 여러 짐을 져다 두었는데 , 이\n",
            "것이 웬일일까 ? \"\n",
            "하고 , 형님 논으로 가 보니까 , 거기도 전보다 별로 많아져 보이지 않습니\n",
            "다 .\n",
            "\" 아니 , 내가 꿈을 꾼 것인가 ? \"\n",
            "하고 , 그 날 온종일 이상히 여기다가 그 날 밤에 또 동리 사람이 잠들기를\n",
            "기다려서 , 넌지시 나가 자기 논의 벼를 여러 짐 져다가 형님의 논에 널어\n",
            "두었습니다 .\n",
            "그리고 , 이튿날 나가 보니 참 이상합니다 .\n",
            "그래도 자기 논에는 벼가 줄지\n",
            "아니하였고 , 형님 논에 늘지도 않았습니다 .\n",
            "\" 이건 참 귀신의 장난 같구나 ! 대체 어찌된 까닭을 모르겠다 . \"\n",
            "하고 , 또 그 날 밤이 되기를 기다려서 , 자기 논의 벼를 거둬서 짊어지고 형\n",
            "님 논으로 갔습니다 .\n",
            "마침 그 날은 날이 흐리어 별 하나도 없어서 몹시 캄캄하므로 , 구렁에 빠\n",
            "지지 않으려고 길바닥만 보면서 가는데 , 저편에서 무언지 시꺼먼 것이 이쪽\n",
            "으로 마주 오므로 깜짝 놀라서 발을 멈추고 우뚝 섰습니다 .\n",
            "\" 그거 누구요 ? \"\n",
            "\" 그거 누구요 ? \"\n",
            "둘이 맞닥뜨리자 양쪽에서 똑같이 이렇게 묻고 보니까 , 저편에서 오는 것\n",
            "은 형님이었습니다 .\n",
            "형님 역시 동생 생각을 하고 , 밤에 넌지시 나와서 , 자기 논의 벼를 여러\n",
            "짐 져다가 동생의 논에 놓아 주었더니 이튿날 보니까 자기 벼가 적어지지도\n",
            "않고 , 동생의 벼가 늘지도 않았으므로 , 이상히 여겨 밤마다 넌지시 옮기다\n",
            "가 이날은 공교롭게 둘이 맞닥뜨린 것이었습니다 .\n",
            "그리하여 , 형제는 서로 저편의 뜻을 감사히 받기 위하여 날마다 옮겨 나르\n",
            "던 벼를 서로 교환하며 먹었습니다 .\n",
            "〈《어린이》 권 호 , 년 가을 특집호 , 방정환〉\n"
          ]
        }
      ]
    },
    {
      "cell_type": "code",
      "source": [
        "# okt를 사용한 형태소 분석\n",
        "from konlpy.tag import Okt\n",
        "\n",
        "okt = Okt()\n",
        "\n",
        "print('OKT 형태소 분석 :',okt.morphs(text))\n",
        "print('OKT 품사 태깅 :',okt.pos(text))\n",
        "print('OKT 명사 추출 :',okt.nouns(text))"
      ],
      "metadata": {
        "id": "7y6mj4KDRixq",
        "colab": {
          "base_uri": "https://localhost:8080/"
        },
        "outputId": "cd5cf1d4-ee03-4016-8a95-672aa515193b"
      },
      "execution_count": 17,
      "outputs": [
        {
          "output_type": "stream",
          "name": "stdout",
          "text": [
            "OKT 형태소 분석 : ['\\\\', 'n', '\\n                                          ', '\\\\', 'n', '\\n  ', '농사', '가', '그리', '잘', '되지는', '못', '했으나', ',', '가을', '이', '되어', '만', '곡', '이', '익으매', '그래도', '농가', '\\\\', 'n', '\\n               ', '에서', '들은', '기쁜', '마음', '으로', '벼', '를', '베느라고', '바빴습니다', '.\\\\', 'n', '\\n  ', '성', '칠이', '도', '동네', '사람', '들', '의', '조력', '을', '얻어', '가지', '고', '자기', '논의', '벼', '를', '베어서', ',', '논', '두', '\\\\', 'n', '\\n    ', '덕', '에', '널어', '두었습니다', '.', '며칠', '간', '햇볕', '에', '말려서', '거둬들일', '작정', '이었습니다', '.\\\\', 'n', '\\n  ', '“', '나', '는', '딸리는', '식구', '가', '없으니까', '염려', '없지마는', ',', '형님', '은', '식구', '가', '많아서', ',', '금', '\\\\', 'n', '\\n        ', '년', '같이', '풍년', '들', '지', '못', '한', '해', '에는', '지', '내', '시기', '가', '곤란하실', '터', '인데', '…….', '”', '\\\\', 'n', '\\n                            ', '하루', '는', '이런', '생각', '이', '나서', ',\\\\', 'n', '\\n  ', '“', '오냐', ',', '그냥', '갖다', '드리면', '받지', '않으실', '것', '이니까', ',', '밤중', '에', '넌지시', '내', '논의', '\\\\', 'n', '\\n             ', '벼', '를', '옮겨다가', ',', '형님', '논', '두렁', '에', '더', '놓아', '드려야겠다', '.', '”', '\\\\', 'n', '\\n ', '하고', ',', '그', '날', '밤', '에', '형님', '도', '동리', '사람', '도', '다', '잠들', '기를', '기다려서', '넌지시', '지게', '를', '\\\\', 'n', '\\n  ', '지고', '나가서', '자기', '논', '두렁', '의', '벼', '를', '여러', '차례', '옮겨다가', '형님', '네', '논', '두렁', '에', '보태', '\\\\', 'n', '\\n                             ', '놓아', '두고', '돌아왔습니다', '.\\\\', 'n', '\\n  ', '그러나', ',', '이상한', '일', '입니다', '.', '이튿날', '나가', '본', '즉', ',', '훨씬', '적어졌을', '자기', '논', '두렁', '\\\\', 'n', '\\n         ', '의', '벼', '는', '조금', '도', '적어지지', '않고', ',', '전', '에', '있던', '그대로', '있습니다', '.\\\\', 'n', '\\n  ', '“', '아니', ',', '내', '가', '분명히', '어젯밤', '에', '형님', '논', '으로', '여러', '짐', '을', '져다', '두었는데', ',', '이', '\\\\', 'n', '\\n                                 ', '것', '이', '웬', '일일', '까', '?', '”', '\\\\', 'n', '\\n  ', '하고', ',', '형님', '논', '으로', '가', '보', '니까', ',', '거기', '도', '전보', '다', '별로', '많아져', '보이지', '않', '습', '니', '\\\\', 'n', '\\n                                        ', '다', '.\\\\', 'n', '\\n                        ', '“', '아니', ',', '내', '가', '꿈', '을', '꾼', '것', '인가', '?', '”', '\\\\', 'n', '\\n ', '하고', ',', '그', '날', '온종일', '이상히', '여기다가', '그', '날', '밤', '에', '또', '동리', '사람', '이', '잠들', '기를', '\\\\', 'n', '\\n  ', '기다려서', ',', '넌지시', '나가', '자기', '논의', '벼', '를', '여러', '짐', '져다가', '형님', '의', '논', '에', '널어', '\\\\', 'n', '\\n                                    ', '두었습니다', '.\\\\', 'n', '\\n  ', '그리고', ',', '이튿날', '나가', '보니', '참', '이상합니다', '.', '그래도', '자기', '논', '에는', '벼', '가', '줄', '지', '\\\\', 'n', '\\n                   ', '아니하였고', ',', '형님', '논', '에', '늘지도', '않았습니다', '.\\\\', 'n', '\\n       ', '“', '이건', '참', '귀신', '의', '장난', '같구나', '!', '대체', '어찌', '된', '까닭', '을', '모르겠다', '.', '”', '\\\\', 'n', '\\n', '하고', ',', '또', '그', '날', '밤', '이', '되', '기를', '기다려서', ',', '자기', '논의', '벼', '를', '거둬서', '짊어지', '고', '형', '\\\\', 'n', '\\n                               ', '님', '논', '으로', '갔습니다', '.\\\\', 'n', '\\n  ', '마침', '그', '날', '은', '날', '이', '흐리어', '별', '하나', '도', '없어서', '몹시', '캄캄하므로', ',', '구렁', '에', '빠', '\\\\', 'n', '\\n  ', '지지', '않으려고', '길', '바닥', '만', '보면서', '가는데', ',', '저편', '에서', '무언', '지', '시꺼먼', '것', '이', '이', '쪽', '\\\\', 'n', '\\n          ', '으로', '마주', '오므로', '깜짝', '놀라서', '발', '을', '멈추고', '우뚝', '섰습니다', '.\\\\', 'n', '\\n                                 ', '“', '그거', '누구', '요', '?', '”', '\\\\', 'n', '\\n                                 ', '“', '그거', '누구', '요', '?', '”', '\\\\', 'n', '\\n                                          ', '\\\\', 'n', '\\n   ', '둘', '이', '맞닥뜨', '리자', '양쪽', '에서', '똑같이', '이렇게', '묻고', '보', '니까', ',', '저편', '에서', '오는', '것', '\\\\', 'n', '\\n                                ', '은', '형님', '이었습니다', '.\\\\', 'n', '\\n  ', '형님', '역시', '동생', '생각', '을', '하고', ',', '밤', '에', '넌지시', '나와서', ',', '자기', '논의', '벼', '를', '여러', '\\\\', 'n', '\\n  ', '짐', '져다가', '동생', '의', '논', '에', '놓아', '주었더니', '이튿날', '보', '니까', '자기', '벼', '가', '적어지지도', '\\\\', 'n', '\\n  ', '않고', ',', '동생', '의', '벼', '가', '늘지도', '않았으므로', ',', '이상히', '여겨', '밤', '마다', '넌지시', '옮기다', '\\\\', 'n', '\\n                ', '가', '이', '날', '은', '공교롭', '게', '둘', '이', '맞닥뜨린', '것', '이었습니다', '.\\\\', 'n', '\\n  ', '그리하여', ',', '형제', '는', '서로', '저편', '의', '뜻', '을', '감사히', '받기', '위', '하여', '날', '마다', '옮겨', '나르', '\\\\', 'n', '\\n                       ', '던', '벼', '를', '서로', '교환', '하며', '먹었습니다', '.\\\\', 'n', '\\n          ', '〈《', '어린이', '》', '7', '권', '8', '호', ',', '1929년', '가을', '특집', '호', ',', '방정환', '〉', '\\\\', 'n']\n",
            "OKT 품사 태깅 : [('\\\\', 'Punctuation'), ('n', 'Alpha'), ('\\n                                          ', 'Foreign'), ('\\\\', 'Punctuation'), ('n', 'Alpha'), ('\\n  ', 'Foreign'), ('농사', 'Noun'), ('가', 'Josa'), ('그리', 'Verb'), ('잘', 'Verb'), ('되지는', 'Verb'), ('못', 'VerbPrefix'), ('했으나', 'Verb'), (',', 'Punctuation'), ('가을', 'Noun'), ('이', 'Josa'), ('되어', 'Verb'), ('만', 'Modifier'), ('곡', 'Noun'), ('이', 'Josa'), ('익으매', 'Verb'), ('그래도', 'Adverb'), ('농가', 'Noun'), ('\\\\', 'Punctuation'), ('n', 'Alpha'), ('\\n               ', 'Foreign'), ('에서', 'Josa'), ('들은', 'Verb'), ('기쁜', 'Adjective'), ('마음', 'Noun'), ('으로', 'Josa'), ('벼', 'Noun'), ('를', 'Josa'), ('베느라고', 'Verb'), ('바빴습니다', 'Adjective'), ('.\\\\', 'Punctuation'), ('n', 'Alpha'), ('\\n  ', 'Foreign'), ('성', 'Modifier'), ('칠이', 'Noun'), ('도', 'Josa'), ('동네', 'Noun'), ('사람', 'Noun'), ('들', 'Suffix'), ('의', 'Josa'), ('조력', 'Noun'), ('을', 'Josa'), ('얻어', 'Verb'), ('가지', 'Noun'), ('고', 'Josa'), ('자기', 'Noun'), ('논의', 'Noun'), ('벼', 'Noun'), ('를', 'Josa'), ('베어서', 'Verb'), (',', 'Punctuation'), ('논', 'Noun'), ('두', 'Josa'), ('\\\\', 'Punctuation'), ('n', 'Alpha'), ('\\n    ', 'Foreign'), ('덕', 'Noun'), ('에', 'Josa'), ('널어', 'Verb'), ('두었습니다', 'Verb'), ('.', 'Punctuation'), ('며칠', 'Noun'), ('간', 'Suffix'), ('햇볕', 'Noun'), ('에', 'Josa'), ('말려서', 'Verb'), ('거둬들일', 'Verb'), ('작정', 'Noun'), ('이었습니다', 'Verb'), ('.\\\\', 'Punctuation'), ('n', 'Alpha'), ('\\n  ', 'Foreign'), ('“', 'Foreign'), ('나', 'Noun'), ('는', 'Josa'), ('딸리는', 'Verb'), ('식구', 'Noun'), ('가', 'Josa'), ('없으니까', 'Adjective'), ('염려', 'Noun'), ('없지마는', 'Adjective'), (',', 'Punctuation'), ('형님', 'Noun'), ('은', 'Josa'), ('식구', 'Noun'), ('가', 'Josa'), ('많아서', 'Adjective'), (',', 'Punctuation'), ('금', 'Noun'), ('\\\\', 'Punctuation'), ('n', 'Alpha'), ('\\n        ', 'Foreign'), ('년', 'Noun'), ('같이', 'Josa'), ('풍년', 'Noun'), ('들', 'Suffix'), ('지', 'Josa'), ('못', 'Noun'), ('한', 'Josa'), ('해', 'Noun'), ('에는', 'Josa'), ('지', 'Modifier'), ('내', 'Modifier'), ('시기', 'Noun'), ('가', 'Josa'), ('곤란하실', 'Adjective'), ('터', 'Noun'), ('인데', 'Josa'), ('…….', 'Punctuation'), ('”', 'Foreign'), ('\\\\', 'Punctuation'), ('n', 'Alpha'), ('\\n                            ', 'Foreign'), ('하루', 'Noun'), ('는', 'Josa'), ('이런', 'Adjective'), ('생각', 'Noun'), ('이', 'Josa'), ('나서', 'Verb'), (',\\\\', 'Punctuation'), ('n', 'Alpha'), ('\\n  ', 'Foreign'), ('“', 'Foreign'), ('오냐', 'Noun'), (',', 'Punctuation'), ('그냥', 'Noun'), ('갖다', 'Verb'), ('드리면', 'Verb'), ('받지', 'Verb'), ('않으실', 'Verb'), ('것', 'Noun'), ('이니까', 'Josa'), (',', 'Punctuation'), ('밤중', 'Noun'), ('에', 'Josa'), ('넌지시', 'Noun'), ('내', 'Noun'), ('논의', 'Noun'), ('\\\\', 'Punctuation'), ('n', 'Alpha'), ('\\n             ', 'Foreign'), ('벼', 'Noun'), ('를', 'Josa'), ('옮겨다가', 'Verb'), (',', 'Punctuation'), ('형님', 'Noun'), ('논', 'Noun'), ('두렁', 'Noun'), ('에', 'Josa'), ('더', 'Noun'), ('놓아', 'Verb'), ('드려야겠다', 'Verb'), ('.', 'Punctuation'), ('”', 'Foreign'), ('\\\\', 'Punctuation'), ('n', 'Alpha'), ('\\n ', 'Foreign'), ('하고', 'Verb'), (',', 'Punctuation'), ('그', 'Noun'), ('날', 'Noun'), ('밤', 'Noun'), ('에', 'Josa'), ('형님', 'Noun'), ('도', 'Josa'), ('동리', 'Noun'), ('사람', 'Noun'), ('도', 'Josa'), ('다', 'Adverb'), ('잠들', 'Verb'), ('기를', 'Verb'), ('기다려서', 'Verb'), ('넌지시', 'Noun'), ('지게', 'Noun'), ('를', 'Josa'), ('\\\\', 'Punctuation'), ('n', 'Alpha'), ('\\n  ', 'Foreign'), ('지고', 'Noun'), ('나가서', 'Verb'), ('자기', 'Noun'), ('논', 'Noun'), ('두렁', 'Noun'), ('의', 'Josa'), ('벼', 'Noun'), ('를', 'Josa'), ('여러', 'Noun'), ('차례', 'Noun'), ('옮겨다가', 'Verb'), ('형님', 'Noun'), ('네', 'Josa'), ('논', 'Noun'), ('두렁', 'Noun'), ('에', 'Josa'), ('보태', 'Noun'), ('\\\\', 'Punctuation'), ('n', 'Alpha'), ('\\n                             ', 'Foreign'), ('놓아', 'Verb'), ('두고', 'Verb'), ('돌아왔습니다', 'Verb'), ('.\\\\', 'Punctuation'), ('n', 'Alpha'), ('\\n  ', 'Foreign'), ('그러나', 'Conjunction'), (',', 'Punctuation'), ('이상한', 'Adjective'), ('일', 'Noun'), ('입니다', 'Adjective'), ('.', 'Punctuation'), ('이튿날', 'Noun'), ('나가', 'Verb'), ('본', 'Modifier'), ('즉', 'Noun'), (',', 'Punctuation'), ('훨씬', 'Adverb'), ('적어졌을', 'Verb'), ('자기', 'Noun'), ('논', 'Noun'), ('두렁', 'Noun'), ('\\\\', 'Punctuation'), ('n', 'Alpha'), ('\\n         ', 'Foreign'), ('의', 'Noun'), ('벼', 'Noun'), ('는', 'Josa'), ('조금', 'Noun'), ('도', 'Josa'), ('적어지지', 'Verb'), ('않고', 'Verb'), (',', 'Punctuation'), ('전', 'Noun'), ('에', 'Josa'), ('있던', 'Adjective'), ('그대로', 'Noun'), ('있습니다', 'Adjective'), ('.\\\\', 'Punctuation'), ('n', 'Alpha'), ('\\n  ', 'Foreign'), ('“', 'Foreign'), ('아니', 'Adjective'), (',', 'Punctuation'), ('내', 'Noun'), ('가', 'Josa'), ('분명히', 'Adjective'), ('어젯밤', 'Noun'), ('에', 'Josa'), ('형님', 'Noun'), ('논', 'Noun'), ('으로', 'Josa'), ('여러', 'Noun'), ('짐', 'Noun'), ('을', 'Josa'), ('져다', 'Verb'), ('두었는데', 'Verb'), (',', 'Punctuation'), ('이', 'Noun'), ('\\\\', 'Punctuation'), ('n', 'Alpha'), ('\\n                                 ', 'Foreign'), ('것', 'Noun'), ('이', 'Josa'), ('웬', 'Modifier'), ('일일', 'Noun'), ('까', 'Verb'), ('?', 'Punctuation'), ('”', 'Foreign'), ('\\\\', 'Punctuation'), ('n', 'Alpha'), ('\\n  ', 'Foreign'), ('하고', 'Verb'), (',', 'Punctuation'), ('형님', 'Noun'), ('논', 'Noun'), ('으로', 'Josa'), ('가', 'Verb'), ('보', 'Noun'), ('니까', 'Josa'), (',', 'Punctuation'), ('거기', 'Noun'), ('도', 'Josa'), ('전보', 'Noun'), ('다', 'Josa'), ('별로', 'Noun'), ('많아져', 'Verb'), ('보이지', 'Noun'), ('않', 'Verb'), ('습', 'Noun'), ('니', 'Josa'), ('\\\\', 'Punctuation'), ('n', 'Alpha'), ('\\n                                        ', 'Foreign'), ('다', 'Adverb'), ('.\\\\', 'Punctuation'), ('n', 'Alpha'), ('\\n                        ', 'Foreign'), ('“', 'Foreign'), ('아니', 'Adjective'), (',', 'Punctuation'), ('내', 'Noun'), ('가', 'Josa'), ('꿈', 'Noun'), ('을', 'Josa'), ('꾼', 'Noun'), ('것', 'Noun'), ('인가', 'Josa'), ('?', 'Punctuation'), ('”', 'Foreign'), ('\\\\', 'Punctuation'), ('n', 'Alpha'), ('\\n ', 'Foreign'), ('하고', 'Verb'), (',', 'Punctuation'), ('그', 'Noun'), ('날', 'Noun'), ('온종일', 'Noun'), ('이상히', 'Adjective'), ('여기다가', 'Verb'), ('그', 'Noun'), ('날', 'Noun'), ('밤', 'Noun'), ('에', 'Josa'), ('또', 'Noun'), ('동리', 'Noun'), ('사람', 'Noun'), ('이', 'Josa'), ('잠들', 'Verb'), ('기를', 'Verb'), ('\\\\', 'Punctuation'), ('n', 'Alpha'), ('\\n  ', 'Foreign'), ('기다려서', 'Verb'), (',', 'Punctuation'), ('넌지시', 'Noun'), ('나가', 'Verb'), ('자기', 'Noun'), ('논의', 'Noun'), ('벼', 'Noun'), ('를', 'Josa'), ('여러', 'Noun'), ('짐', 'Noun'), ('져다가', 'Verb'), ('형님', 'Noun'), ('의', 'Josa'), ('논', 'Noun'), ('에', 'Josa'), ('널어', 'Verb'), ('\\\\', 'Punctuation'), ('n', 'Alpha'), ('\\n                                    ', 'Foreign'), ('두었습니다', 'Verb'), ('.\\\\', 'Punctuation'), ('n', 'Alpha'), ('\\n  ', 'Foreign'), ('그리고', 'Conjunction'), (',', 'Punctuation'), ('이튿날', 'Noun'), ('나가', 'Verb'), ('보니', 'Verb'), ('참', 'Verb'), ('이상합니다', 'Adjective'), ('.', 'Punctuation'), ('그래도', 'Adverb'), ('자기', 'Noun'), ('논', 'Noun'), ('에는', 'Josa'), ('벼', 'Noun'), ('가', 'Josa'), ('줄', 'Noun'), ('지', 'Josa'), ('\\\\', 'Punctuation'), ('n', 'Alpha'), ('\\n                   ', 'Foreign'), ('아니하였고', 'Adjective'), (',', 'Punctuation'), ('형님', 'Noun'), ('논', 'Noun'), ('에', 'Josa'), ('늘지도', 'Verb'), ('않았습니다', 'Verb'), ('.\\\\', 'Punctuation'), ('n', 'Alpha'), ('\\n       ', 'Foreign'), ('“', 'Foreign'), ('이건', 'Noun'), ('참', 'Verb'), ('귀신', 'Noun'), ('의', 'Josa'), ('장난', 'Noun'), ('같구나', 'Adjective'), ('!', 'Punctuation'), ('대체', 'Noun'), ('어찌', 'Noun'), ('된', 'Verb'), ('까닭', 'Noun'), ('을', 'Josa'), ('모르겠다', 'Verb'), ('.', 'Punctuation'), ('”', 'Foreign'), ('\\\\', 'Punctuation'), ('n', 'Alpha'), ('\\n', 'Foreign'), ('하고', 'Verb'), (',', 'Punctuation'), ('또', 'Noun'), ('그', 'Noun'), ('날', 'Noun'), ('밤', 'Noun'), ('이', 'Josa'), ('되', 'Verb'), ('기를', 'Verb'), ('기다려서', 'Verb'), (',', 'Punctuation'), ('자기', 'Noun'), ('논의', 'Noun'), ('벼', 'Noun'), ('를', 'Josa'), ('거둬서', 'Verb'), ('짊어지', 'Noun'), ('고', 'Josa'), ('형', 'Noun'), ('\\\\', 'Punctuation'), ('n', 'Alpha'), ('\\n                               ', 'Foreign'), ('님', 'Suffix'), ('논', 'Noun'), ('으로', 'Josa'), ('갔습니다', 'Verb'), ('.\\\\', 'Punctuation'), ('n', 'Alpha'), ('\\n  ', 'Foreign'), ('마침', 'Noun'), ('그', 'Noun'), ('날', 'Noun'), ('은', 'Josa'), ('날', 'Noun'), ('이', 'Josa'), ('흐리어', 'Verb'), ('별', 'Noun'), ('하나', 'Noun'), ('도', 'Josa'), ('없어서', 'Adjective'), ('몹시', 'Noun'), ('캄캄하므로', 'Adjective'), (',', 'Punctuation'), ('구렁', 'Noun'), ('에', 'Josa'), ('빠', 'Noun'), ('\\\\', 'Punctuation'), ('n', 'Alpha'), ('\\n  ', 'Foreign'), ('지지', 'Noun'), ('않으려고', 'Verb'), ('길', 'Noun'), ('바닥', 'Noun'), ('만', 'Josa'), ('보면서', 'Verb'), ('가는데', 'Verb'), (',', 'Punctuation'), ('저편', 'Noun'), ('에서', 'Josa'), ('무언', 'Noun'), ('지', 'Josa'), ('시꺼먼', 'Adjective'), ('것', 'Noun'), ('이', 'Josa'), ('이', 'Determiner'), ('쪽', 'Noun'), ('\\\\', 'Punctuation'), ('n', 'Alpha'), ('\\n          ', 'Foreign'), ('으로', 'Josa'), ('마주', 'Noun'), ('오므로', 'Verb'), ('깜짝', 'Noun'), ('놀라서', 'Verb'), ('발', 'Noun'), ('을', 'Josa'), ('멈추고', 'Verb'), ('우뚝', 'Noun'), ('섰습니다', 'Verb'), ('.\\\\', 'Punctuation'), ('n', 'Alpha'), ('\\n                                 ', 'Foreign'), ('“', 'Foreign'), ('그거', 'Noun'), ('누구', 'Noun'), ('요', 'Josa'), ('?', 'Punctuation'), ('”', 'Foreign'), ('\\\\', 'Punctuation'), ('n', 'Alpha'), ('\\n                                 ', 'Foreign'), ('“', 'Foreign'), ('그거', 'Noun'), ('누구', 'Noun'), ('요', 'Josa'), ('?', 'Punctuation'), ('”', 'Foreign'), ('\\\\', 'Punctuation'), ('n', 'Alpha'), ('\\n                                          ', 'Foreign'), ('\\\\', 'Punctuation'), ('n', 'Alpha'), ('\\n   ', 'Foreign'), ('둘', 'Noun'), ('이', 'Josa'), ('맞닥뜨', 'Noun'), ('리자', 'Noun'), ('양쪽', 'Noun'), ('에서', 'Josa'), ('똑같이', 'Adverb'), ('이렇게', 'Adverb'), ('묻고', 'Verb'), ('보', 'Noun'), ('니까', 'Josa'), (',', 'Punctuation'), ('저편', 'Noun'), ('에서', 'Josa'), ('오는', 'Verb'), ('것', 'Noun'), ('\\\\', 'Punctuation'), ('n', 'Alpha'), ('\\n                                ', 'Foreign'), ('은', 'Noun'), ('형님', 'Noun'), ('이었습니다', 'Verb'), ('.\\\\', 'Punctuation'), ('n', 'Alpha'), ('\\n  ', 'Foreign'), ('형님', 'Noun'), ('역시', 'Noun'), ('동생', 'Noun'), ('생각', 'Noun'), ('을', 'Josa'), ('하고', 'Verb'), (',', 'Punctuation'), ('밤', 'Noun'), ('에', 'Josa'), ('넌지시', 'Noun'), ('나와서', 'Verb'), (',', 'Punctuation'), ('자기', 'Noun'), ('논의', 'Noun'), ('벼', 'Noun'), ('를', 'Josa'), ('여러', 'Noun'), ('\\\\', 'Punctuation'), ('n', 'Alpha'), ('\\n  ', 'Foreign'), ('짐', 'Noun'), ('져다가', 'Verb'), ('동생', 'Noun'), ('의', 'Josa'), ('논', 'Noun'), ('에', 'Josa'), ('놓아', 'Verb'), ('주었더니', 'Verb'), ('이튿날', 'Noun'), ('보', 'Noun'), ('니까', 'Josa'), ('자기', 'Noun'), ('벼', 'Noun'), ('가', 'Josa'), ('적어지지도', 'Verb'), ('\\\\', 'Punctuation'), ('n', 'Alpha'), ('\\n  ', 'Foreign'), ('않고', 'Verb'), (',', 'Punctuation'), ('동생', 'Noun'), ('의', 'Josa'), ('벼', 'Noun'), ('가', 'Josa'), ('늘지도', 'Verb'), ('않았으므로', 'Verb'), (',', 'Punctuation'), ('이상히', 'Adjective'), ('여겨', 'Verb'), ('밤', 'Noun'), ('마다', 'Josa'), ('넌지시', 'Noun'), ('옮기다', 'Verb'), ('\\\\', 'Punctuation'), ('n', 'Alpha'), ('\\n                ', 'Foreign'), ('가', 'Verb'), ('이', 'Determiner'), ('날', 'Noun'), ('은', 'Josa'), ('공교롭', 'Noun'), ('게', 'Josa'), ('둘', 'Noun'), ('이', 'Josa'), ('맞닥뜨린', 'Noun'), ('것', 'Noun'), ('이었습니다', 'Verb'), ('.\\\\', 'Punctuation'), ('n', 'Alpha'), ('\\n  ', 'Foreign'), ('그리하여', 'Conjunction'), (',', 'Punctuation'), ('형제', 'Noun'), ('는', 'Josa'), ('서로', 'Noun'), ('저편', 'Noun'), ('의', 'Josa'), ('뜻', 'Noun'), ('을', 'Josa'), ('감사히', 'Adverb'), ('받기', 'Verb'), ('위', 'Noun'), ('하여', 'Verb'), ('날', 'Noun'), ('마다', 'Josa'), ('옮겨', 'Verb'), ('나르', 'Verb'), ('\\\\', 'Punctuation'), ('n', 'Alpha'), ('\\n                       ', 'Foreign'), ('던', 'Noun'), ('벼', 'Noun'), ('를', 'Josa'), ('서로', 'Noun'), ('교환', 'Noun'), ('하며', 'Verb'), ('먹었습니다', 'Verb'), ('.\\\\', 'Punctuation'), ('n', 'Alpha'), ('\\n          ', 'Foreign'), ('〈《', 'Foreign'), ('어린이', 'Noun'), ('》', 'Foreign'), ('7', 'Number'), ('권', 'Noun'), ('8', 'Number'), ('호', 'Noun'), (',', 'Punctuation'), ('1929년', 'Number'), ('가을', 'Noun'), ('특집', 'Noun'), ('호', 'Noun'), (',', 'Punctuation'), ('방정환', 'Noun'), ('〉', 'Foreign'), ('\\\\', 'Punctuation'), ('n', 'Alpha')]\n",
            "OKT 명사 추출 : ['농사', '가을', '곡', '농가', '마음', '벼', '칠이', '동네', '사람', '조력', '가지', '자기', '논의', '벼', '논', '덕', '며칠', '햇볕', '작정', '나', '식구', '염려', '형님', '식구', '금', '년', '풍년', '못', '해', '시기', '터', '하루', '생각', '오냐', '그냥', '것', '밤중', '넌지시', '내', '논의', '벼', '형님', '논', '두렁', '더', '그', '날', '밤', '형님', '동리', '사람', '넌지시', '지게', '지고', '자기', '논', '두렁', '벼', '여러', '차례', '형님', '논', '두렁', '보태', '일', '이튿날', '즉', '자기', '논', '두렁', '의', '벼', '조금', '전', '그대로', '내', '어젯밤', '형님', '논', '여러', '짐', '이', '것', '일일', '형님', '논', '보', '거기', '전보', '별로', '보이지', '습', '내', '꿈', '꾼', '것', '그', '날', '온종일', '그', '날', '밤', '또', '동리', '사람', '넌지시', '자기', '논의', '벼', '여러', '짐', '형님', '논', '이튿날', '자기', '논', '벼', '줄', '형님', '논', '이건', '귀신', '장난', '대체', '어찌', '까닭', '또', '그', '날', '밤', '자기', '논의', '벼', '짊어지', '형', '논', '마침', '그', '날', '날', '별', '하나', '몹시', '구렁', '빠', '지지', '길', '바닥', '저편', '무언', '것', '쪽', '마주', '깜짝', '발', '우뚝', '그거', '누구', '그거', '누구', '둘', '맞닥뜨', '리자', '양쪽', '보', '저편', '것', '은', '형님', '형님', '역시', '동생', '생각', '밤', '넌지시', '자기', '논의', '벼', '여러', '짐', '동생', '논', '이튿날', '보', '자기', '벼', '동생', '벼', '밤', '넌지시', '날', '공교롭', '둘', '맞닥뜨린', '것', '형제', '서로', '저편', '뜻', '위', '날', '던', '벼', '서로', '교환', '어린이', '권', '호', '가을', '특집', '호', '방정환']\n"
          ]
        }
      ]
    },
    {
      "cell_type": "code",
      "source": [
        "# 꼬꼬마를 사용한 형태소 분석\n",
        "from konlpy.tag import Kkma\n",
        "\n",
        "kkma = Kkma()\n",
        "\n",
        "print('꼬꼬마 형태소 분석 :',kkma.morphs(text))\n",
        "print('꼬꼬마 품사 태깅 :',kkma.pos(text))\n",
        "print('꼬꼬마 명사 추출 :',kkma.nouns(text))"
      ],
      "metadata": {
        "id": "JAx88q9_RjYb",
        "colab": {
          "base_uri": "https://localhost:8080/"
        },
        "outputId": "e35e3034-6c10-48de-8e82-642ea20df5e2"
      },
      "execution_count": 18,
      "outputs": [
        {
          "output_type": "stream",
          "name": "stdout",
          "text": [
            "꼬꼬마 형태소 분석 : ['\\\\', 'n', '\\\\', 'n', '농사', '가', '그리', '잘', '되', '지', '는', '못하', '었', '으나', ',', '가을', '이', '되', '어', '만곡', '이', '익', '으매', '그리하', '여도', '농가', '\\\\', 'n', '에서', '듣', '은', '기쁘', 'ㄴ', '마음', '으로', '벼', '를', '베', '느라고', '바쁘', '았', '습니다', '.', '\\\\', 'n', '성', '치', 'ㄹ', '이도', '동네', '사람', '들', '의', '조력', '을', '얻', '어', '가지', '고', '자기', '논', '의', '벼', '를', '베', '어서', ',', '논', '두', '\\\\', 'n', '덕', '에', '널', '어', '두', '었', '습니다', '.', '며칠간', '햇볕', '에', '말리', '어서', '거둬들이', 'ㄹ', '작정', '이', '었', '습니다', '.', '\\\\', 'n', '“', '나', '는', '딸리', '는', '식구', '가', '없', '으니까', '염려', '없', '지마는', ',', '형님', '은', '식구', '가', '많', '아서', ',', '금', '\\\\', 'n', '년', '같이', '풍년', '들', '지', '못하', 'ㄴ', '해', '에', '는', '지내', '시기', '가', '곤란', '하', '시', 'ㄹ', '터', '이', 'ㄴ데', '……', '.', '”', '\\\\', 'n', '하루', '는', '이런', '생각', '이', '나', '아서', ',', '\\\\', 'n', '“', '오', '이', '냐', ',', '그냥', '갖', '다', '드리', '면', '받', '지', '않', '으시', 'ㄹ', '것', '이', '니까', ',', '밤중', '에', '넌지시', '내', '논의', '\\\\', 'n', '벼', '를', '옮기', '어', '다가', ',', '형님', '논두렁', '에', '더', '놓', '아', '드리', '어야', '겠다', '.', '”', '\\\\', 'n', '하', '고', ',', '그', '날', '밤', '에', '형님', '도', '동리', '사람', '도', '다', '잠들기', '를', '기다리', '어서', '넌지시', '지게', '를', '\\\\', 'n', '지', '고', '나', '가', '스', '어', '자기', '논두렁', '의', '벼', '를', '여러', '차례', '옮기', '어', '다가', '형님', '네', '논두렁', '에', '보태', '\\\\', 'n', '놓', '아', '두', '고', '돌아오', '았', '습니다', '.', '\\\\', 'n', '그러', '나', ',', '이상', '하', 'ㄴ', '일', '이', 'ㅂ니다', '.', '이튿날', '나', '가', '보', 'ㄴ즉', ',', '훨씬', '적어지', '었', '을', '자기', '논두렁', '\\\\', 'n', '의', '벼', '는', '조금', '도', '적어지', '지', '않', '고', ',', '전', '에', '있', '더', 'ㄴ', '그대로', '있', '습니다', '.', '\\\\', 'n', '“', '알', '니', ',', '나', '가', '분명히', '어젯밤', '에', '형님', '논', '으로', '여러', '짐', '을', '지', '어', '다', '두', '었', '는데', ',', '이', '\\\\', 'n', '것', '이', '웬일', '이', 'ㄹ까', '?', '”', '\\\\', 'n', '하', '고', ',', '형님', '논', '으로', '가', '아', '보', '니까', ',', '거기', '도', '전', '보다', '별로', '많', '아', '지', '어', '보이', '지', '않', '습', '니', '\\\\', 'n', '다', '.', '\\\\', 'n', '“', '알', '니', ',', '나', '가', '꿈', '을', '꾸', 'ㄴ', '것', '이', 'ㄴ가', '?', '”', '\\\\', 'n', '하', '고', ',', '그', '날', '온종일', '이상히', '여기', '다가', '그', '날', '밤', '에', '또', '동리', '사람', '이', '잠들기', '를', '\\\\', 'n', '기다리', '어서', ',', '넌지시', '나', '가', '자기', '논', '의', '벼', '를', '여러', '짐', '지', '어', '다가', '형님', '의', '논', '에', '널', '어', '\\\\', 'n', '두', '었', '습니다', '.', '\\\\', 'n', '그리', '고', ',', '이튿날', '나', '가', '보', '니', '참', '이상', '하', 'ㅂ니다', '.', '그리하', '여도', '자기', '논', '에', '는', '벼', '가', '줄', 'ㄹ지', '\\\\', 'n', '아니하', '였', '고', ',', '형님', '논', '에', '늘', 'ㄹ지', '도', '않', '았', '습니다', '.', '\\\\', 'n', '“', '이', '건', '참', '귀신', '의', '장난', '같', '구나', '!', '대체', '어찌', '되', 'ㄴ', '까닭', '을', '모르', '겠', '다', '.', '”', '\\\\', 'n', '하', '고', ',', '또', '그', '날', '밤', '이', '되', '기', '를', '기다리', '어서', ',', '자기', '논', '의', '벼', '를', '거두', '어서', '짊어지', '고', '형', '\\\\', 'n', '님', '논', '으로', '가', '었', '습니다', '.', '\\\\', 'n', '마침', '그', '날', '은', '날', '이', '흐리', '어', '별', '하나', '도', '없', '어서', '몹시', '캄캄하', '므로', ',', '구렁', '에', '빻', '\\\\', 'n', '지', '지', '않', '으려고', '길바닥', '만', '보', '면서', '갈', '는데', ',', '저편', '에서', '무', '언지', '시꺼멓', 'ㄴ', '것', '이', '이쪽', '\\\\', 'n', '으로', '마주', '오', '므로', '깜짝', '놀라', '서', '발', '을', '멈추', '고', '우뚝', '서', '었', '습니다', '.', '\\\\', 'n', '“', '그거', '누구', '이', '요', '?', '”', '\\\\', 'n', '“', '그거', '누구', '이', '요', '?', '”', '\\\\', 'n', '\\\\', 'n', '둘', '이', '맞닥뜨리', '자', '양쪽', '에서', '똑같이', '이렇', '게', '묻', '고', '보', '니까', ',', '저편', '에서', '오', '는', '것', '\\\\', 'n', '은', '형님', '이', '었', '습니다', '.', '\\\\', 'n', '형님', '역시', '동생', '생각', '을', '하', '고', ',', '밤', '에', '넌지시', '나오', '아서', ',', '자기', '논의', '벼르', 'ㄹ', '여러', '\\\\', 'n', '짐', '지', '어', '다그', '아', '동생', '의', '논', '에', '놓', '아', '주', '었', '더니', '이튿날', '보', '니까', '자기', '벼', '가', '적어지', '지', '도', '\\\\', 'n', '않', '고', ',', '동생', '의', '벼', '가', '늘', 'ㄹ지', '도', '않', '았', '으므로', ',', '이상히', '여기', '어', '밤', '마다', '넌지시', '옮기', '다', '\\\\', 'n', '가', '이날', '은', '공교', '롭', '게', '둘', '이', '맞닥뜨리', 'ㄴ', '것', '이', '었', '습니다', '.', '\\\\', 'n', '그리하', '여', ',', '형제', '는', '서로', '저편', '의', '뜻', '을', '감사히', '받', '기', '위하', '여', '날', '마다', '옮기', '어', '나', '르', '\\\\', 'n', '덜', 'ㄴ', '벼', '를', '서로', '교환', '하', '며', '먹', '었', '습니다', '.', '\\\\', 'n', '〈', '《', '어린이', '》', '7', '권', '8', '호', ',', '1929', '년', '가을', '특집호', ',', '방정환', '〉', '\\\\', 'n']\n",
            "꼬꼬마 품사 태깅 : [('\\\\', 'SW'), ('n', 'OL'), ('\\\\', 'SW'), ('n', 'OL'), ('농사', 'NNG'), ('가', 'JKS'), ('그리', 'MAG'), ('잘', 'MAG'), ('되', 'VV'), ('지', 'ECD'), ('는', 'JX'), ('못하', 'VX'), ('었', 'EPT'), ('으나', 'ECE'), (',', 'SP'), ('가을', 'NNG'), ('이', 'JKC'), ('되', 'VV'), ('어', 'ECD'), ('만곡', 'NNG'), ('이', 'JKS'), ('익', 'VV'), ('으매', 'ECD'), ('그리하', 'VV'), ('여도', 'ECD'), ('농가', 'NNG'), ('\\\\', 'SW'), ('n', 'OL'), ('에서', 'JKM'), ('듣', 'VV'), ('은', 'ETD'), ('기쁘', 'VA'), ('ㄴ', 'ETD'), ('마음', 'NNG'), ('으로', 'JKM'), ('벼', 'NNG'), ('를', 'JKO'), ('베', 'VV'), ('느라고', 'ECD'), ('바쁘', 'VA'), ('았', 'EPT'), ('습니다', 'EFN'), ('.', 'SF'), ('\\\\', 'SW'), ('n', 'OL'), ('성', 'NNG'), ('치', 'VV'), ('ㄹ', 'ETD'), ('이도', 'UN'), ('동네', 'NNG'), ('사람', 'NNG'), ('들', 'XSN'), ('의', 'JKG'), ('조력', 'NNG'), ('을', 'JKO'), ('얻', 'VV'), ('어', 'ECD'), ('가지', 'VXV'), ('고', 'ECE'), ('자기', 'NP'), ('논', 'NNG'), ('의', 'JKG'), ('벼', 'NNG'), ('를', 'JKO'), ('베', 'VV'), ('어서', 'ECD'), (',', 'SP'), ('논', 'NNG'), ('두', 'JX'), ('\\\\', 'SW'), ('n', 'OL'), ('덕', 'NNG'), ('에', 'JKM'), ('널', 'VV'), ('어', 'ECD'), ('두', 'VXV'), ('었', 'EPT'), ('습니다', 'EFN'), ('.', 'SF'), ('며칠간', 'NNG'), ('햇볕', 'NNG'), ('에', 'JKM'), ('말리', 'VV'), ('어서', 'ECD'), ('거둬들이', 'VV'), ('ㄹ', 'ETD'), ('작정', 'NNG'), ('이', 'VCP'), ('었', 'EPT'), ('습니다', 'EFN'), ('.', 'SF'), ('\\\\', 'SW'), ('n', 'OL'), ('“', 'SS'), ('나', 'NP'), ('는', 'JX'), ('딸리', 'VV'), ('는', 'ETD'), ('식구', 'NNG'), ('가', 'JKS'), ('없', 'VA'), ('으니까', 'ECD'), ('염려', 'NNG'), ('없', 'VA'), ('지마는', 'ECE'), (',', 'SP'), ('형님', 'NNG'), ('은', 'JX'), ('식구', 'NNG'), ('가', 'JKS'), ('많', 'VA'), ('아서', 'ECD'), (',', 'SP'), ('금', 'NNG'), ('\\\\', 'SW'), ('n', 'OL'), ('년', 'NNB'), ('같이', 'MAG'), ('풍년', 'NNG'), ('들', 'XSN'), ('지', 'NNG'), ('못하', 'VA'), ('ㄴ', 'ETD'), ('해', 'NNG'), ('에', 'JKM'), ('는', 'JX'), ('지내', 'MAG'), ('시기', 'NNG'), ('가', 'JKS'), ('곤란', 'NNG'), ('하', 'XSV'), ('시', 'EPH'), ('ㄹ', 'ETD'), ('터', 'NNB'), ('이', 'VCP'), ('ㄴ데', 'ECE'), ('……', 'SW'), ('.', 'SF'), ('”', 'SS'), ('\\\\', 'SW'), ('n', 'OL'), ('하루', 'NNG'), ('는', 'JX'), ('이런', 'MDT'), ('생각', 'NNG'), ('이', 'JKS'), ('나', 'VV'), ('아서', 'ECD'), (',', 'SP'), ('\\\\', 'SW'), ('n', 'OL'), ('“', 'SS'), ('오', 'NNG'), ('이', 'VCP'), ('냐', 'EFQ'), (',', 'SP'), ('그냥', 'MAG'), ('갖', 'VV'), ('다', 'ECS'), ('드리', 'VXV'), ('면', 'ECE'), ('받', 'VV'), ('지', 'ECD'), ('않', 'VXV'), ('으시', 'EPH'), ('ㄹ', 'ETD'), ('것', 'NNB'), ('이', 'VCP'), ('니까', 'ECD'), (',', 'SP'), ('밤중', 'NNG'), ('에', 'JKM'), ('넌지시', 'MAG'), ('내', 'NNG'), ('논의', 'NNG'), ('\\\\', 'SW'), ('n', 'OL'), ('벼', 'NNG'), ('를', 'JKO'), ('옮기', 'VV'), ('어', 'ECS'), ('다가', 'NNP'), (',', 'SP'), ('형님', 'NNG'), ('논두렁', 'NNG'), ('에', 'JKM'), ('더', 'MAG'), ('놓', 'VV'), ('아', 'ECD'), ('드리', 'VXV'), ('어야', 'ECD'), ('겠다', 'UN'), ('.', 'SF'), ('”', 'SS'), ('\\\\', 'SW'), ('n', 'OL'), ('하', 'VV'), ('고', 'ECE'), (',', 'SP'), ('그', 'MDT'), ('날', 'NNG'), ('밤', 'NNG'), ('에', 'JKM'), ('형님', 'NNG'), ('도', 'JX'), ('동리', 'NNG'), ('사람', 'NNG'), ('도', 'JX'), ('다', 'MAG'), ('잠들기', 'NNG'), ('를', 'JKO'), ('기다리', 'VV'), ('어서', 'ECD'), ('넌지시', 'MAG'), ('지게', 'NNG'), ('를', 'JKO'), ('\\\\', 'SW'), ('n', 'OL'), ('지', 'VXV'), ('고', 'ECE'), ('나', 'NP'), ('가', 'JKS'), ('스', 'VV'), ('어', 'ECS'), ('자기', 'NNG'), ('논두렁', 'NNG'), ('의', 'JKG'), ('벼', 'NNG'), ('를', 'JKO'), ('여러', 'MDT'), ('차례', 'NNG'), ('옮기', 'VV'), ('어', 'ECS'), ('다가', 'NNP'), ('형님', 'NNG'), ('네', 'XSN'), ('논두렁', 'NNG'), ('에', 'JKM'), ('보태', 'NNG'), ('\\\\', 'SW'), ('n', 'OL'), ('놓', 'VV'), ('아', 'ECD'), ('두', 'VXV'), ('고', 'ECE'), ('돌아오', 'VV'), ('았', 'EPT'), ('습니다', 'EFN'), ('.', 'SF'), ('\\\\', 'SW'), ('n', 'OL'), ('그러', 'VV'), ('나', 'ECE'), (',', 'SP'), ('이상', 'NNG'), ('하', 'XSV'), ('ㄴ', 'ETD'), ('일', 'NNG'), ('이', 'VCP'), ('ㅂ니다', 'EFN'), ('.', 'SF'), ('이튿날', 'NNG'), ('나', 'NP'), ('가', 'JKS'), ('보', 'VV'), ('ㄴ즉', 'ECE'), (',', 'SP'), ('훨씬', 'MAG'), ('적어지', 'VV'), ('었', 'EPT'), ('을', 'ETD'), ('자기', 'NNG'), ('논두렁', 'NNG'), ('\\\\', 'SW'), ('n', 'OL'), ('의', 'JKG'), ('벼', 'NNG'), ('는', 'JX'), ('조금', 'NNG'), ('도', 'JX'), ('적어지', 'VV'), ('지', 'ECD'), ('않', 'VXV'), ('고', 'ECE'), (',', 'SP'), ('전', 'NNG'), ('에', 'JKM'), ('있', 'VV'), ('더', 'EPT'), ('ㄴ', 'ETD'), ('그대로', 'MAG'), ('있', 'VV'), ('습니다', 'EFN'), ('.', 'SF'), ('\\\\', 'SW'), ('n', 'OL'), ('“', 'SS'), ('알', 'VV'), ('니', 'ECD'), (',', 'SP'), ('나', 'NP'), ('가', 'JKS'), ('분명히', 'MAG'), ('어젯밤', 'NNG'), ('에', 'JKM'), ('형님', 'NNG'), ('논', 'NNG'), ('으로', 'JKM'), ('여러', 'MDT'), ('짐', 'NNG'), ('을', 'JKO'), ('지', 'VV'), ('어', 'ECS'), ('다', 'MAG'), ('두', 'VV'), ('었', 'EPT'), ('는데', 'ECD'), (',', 'SP'), ('이', 'NNG'), ('\\\\', 'SW'), ('n', 'OL'), ('것', 'NNB'), ('이', 'JKS'), ('웬일', 'NNG'), ('이', 'VCP'), ('ㄹ까', 'EFQ'), ('?', 'SF'), ('”', 'SS'), ('\\\\', 'SW'), ('n', 'OL'), ('하', 'VV'), ('고', 'ECE'), (',', 'SP'), ('형님', 'NNG'), ('논', 'NNG'), ('으로', 'JKM'), ('가', 'VV'), ('아', 'ECS'), ('보', 'VXV'), ('니까', 'ECD'), (',', 'SP'), ('거기', 'NP'), ('도', 'JX'), ('전', 'NNG'), ('보다', 'JKM'), ('별로', 'MAG'), ('많', 'VA'), ('아', 'ECD'), ('지', 'VXV'), ('어', 'ECS'), ('보이', 'VV'), ('지', 'ECD'), ('않', 'MAG'), ('습', 'NNG'), ('니', 'NP'), ('\\\\', 'SW'), ('n', 'OL'), ('다', 'MAG'), ('.', 'SF'), ('\\\\', 'SW'), ('n', 'OL'), ('“', 'SS'), ('알', 'VV'), ('니', 'ECD'), (',', 'SP'), ('나', 'NP'), ('가', 'JKS'), ('꿈', 'NNG'), ('을', 'JKO'), ('꾸', 'VV'), ('ㄴ', 'ETD'), ('것', 'NNB'), ('이', 'VCP'), ('ㄴ가', 'EFQ'), ('?', 'SF'), ('”', 'SS'), ('\\\\', 'SW'), ('n', 'OL'), ('하', 'VV'), ('고', 'ECE'), (',', 'SP'), ('그', 'MDT'), ('날', 'NNG'), ('온종일', 'NNG'), ('이상히', 'MAG'), ('여기', 'VV'), ('다가', 'ECD'), ('그', 'MDT'), ('날', 'NNG'), ('밤', 'NNG'), ('에', 'JKM'), ('또', 'MAG'), ('동리', 'NNG'), ('사람', 'NNG'), ('이', 'JKS'), ('잠들기', 'NNG'), ('를', 'JKO'), ('\\\\', 'SW'), ('n', 'OL'), ('기다리', 'VV'), ('어서', 'ECD'), (',', 'SP'), ('넌지시', 'MAG'), ('나', 'NP'), ('가', 'JKS'), ('자기', 'NP'), ('논', 'NNG'), ('의', 'JKG'), ('벼', 'NNG'), ('를', 'JKO'), ('여러', 'MDT'), ('짐', 'NNG'), ('지', 'VV'), ('어', 'ECS'), ('다가', 'NNP'), ('형님', 'NNG'), ('의', 'JKG'), ('논', 'NNG'), ('에', 'JKM'), ('널', 'VV'), ('어', 'ECD'), ('\\\\', 'SW'), ('n', 'OL'), ('두', 'VV'), ('었', 'EPT'), ('습니다', 'EFN'), ('.', 'SF'), ('\\\\', 'SW'), ('n', 'OL'), ('그리', 'VV'), ('고', 'ECE'), (',', 'SP'), ('이튿날', 'NNG'), ('나', 'NP'), ('가', 'JKS'), ('보', 'VV'), ('니', 'ECD'), ('참', 'MAG'), ('이상', 'NNG'), ('하', 'XSV'), ('ㅂ니다', 'EFN'), ('.', 'SF'), ('그리하', 'VV'), ('여도', 'ECD'), ('자기', 'NP'), ('논', 'NNG'), ('에', 'JKM'), ('는', 'JX'), ('벼', 'NNG'), ('가', 'JKS'), ('줄', 'VV'), ('ㄹ지', 'ECD'), ('\\\\', 'SW'), ('n', 'OL'), ('아니하', 'VXV'), ('였', 'EPT'), ('고', 'ECE'), (',', 'SP'), ('형님', 'NNG'), ('논', 'NNG'), ('에', 'JKM'), ('늘', 'VV'), ('ㄹ지', 'ECD'), ('도', 'JX'), ('않', 'VXV'), ('았', 'EPT'), ('습니다', 'EFN'), ('.', 'SF'), ('\\\\', 'SW'), ('n', 'OL'), ('“', 'SS'), ('이', 'VCP'), ('건', 'ECE'), ('참', 'MAG'), ('귀신', 'NNG'), ('의', 'JKG'), ('장난', 'NNG'), ('같', 'VA'), ('구나', 'EFI'), ('!', 'SF'), ('대체', 'MAG'), ('어찌', 'MAG'), ('되', 'VV'), ('ㄴ', 'ETD'), ('까닭', 'NNG'), ('을', 'JKO'), ('모르', 'VV'), ('겠', 'EPT'), ('다', 'EFN'), ('.', 'SF'), ('”', 'SS'), ('\\\\', 'SW'), ('n', 'OL'), ('하', 'VV'), ('고', 'ECE'), (',', 'SP'), ('또', 'MAG'), ('그', 'MDT'), ('날', 'NNG'), ('밤', 'NNG'), ('이', 'JKC'), ('되', 'VV'), ('기', 'ETN'), ('를', 'JKO'), ('기다리', 'VV'), ('어서', 'ECD'), (',', 'SP'), ('자기', 'NP'), ('논', 'NNG'), ('의', 'JKG'), ('벼', 'NNG'), ('를', 'JKO'), ('거두', 'VV'), ('어서', 'ECD'), ('짊어지', 'VV'), ('고', 'ECE'), ('형', 'NNG'), ('\\\\', 'SW'), ('n', 'OL'), ('님', 'NNG'), ('논', 'NNG'), ('으로', 'JKM'), ('가', 'VV'), ('었', 'EPT'), ('습니다', 'EFN'), ('.', 'SF'), ('\\\\', 'SW'), ('n', 'OL'), ('마침', 'MAG'), ('그', 'MDT'), ('날', 'NNG'), ('은', 'JX'), ('날', 'NNG'), ('이', 'JKS'), ('흐리', 'VA'), ('어', 'ECD'), ('별', 'NNG'), ('하나', 'NR'), ('도', 'JX'), ('없', 'VA'), ('어서', 'ECD'), ('몹시', 'MAG'), ('캄캄하', 'VA'), ('므로', 'ECD'), (',', 'SP'), ('구렁', 'NNG'), ('에', 'JKM'), ('빻', 'VV'), ('\\\\', 'SW'), ('n', 'OL'), ('지', 'VXV'), ('지', 'ECD'), ('않', 'VXV'), ('으려고', 'ECD'), ('길바닥', 'NNG'), ('만', 'JX'), ('보', 'VV'), ('면서', 'ECE'), ('갈', 'VV'), ('는데', 'ECD'), (',', 'SP'), ('저편', 'NP'), ('에서', 'JKM'), ('무', 'XPN'), ('언지', 'NNG'), ('시꺼멓', 'VA'), ('ㄴ', 'ETD'), ('것', 'NNB'), ('이', 'JKS'), ('이쪽', 'NNG'), ('\\\\', 'SW'), ('n', 'OL'), ('으로', 'JKM'), ('마주', 'MAG'), ('오', 'VV'), ('므로', 'ECD'), ('깜짝', 'MAG'), ('놀라', 'VV'), ('서', 'ECD'), ('발', 'NNG'), ('을', 'JKO'), ('멈추', 'VV'), ('고', 'ECE'), ('우뚝', 'MAG'), ('서', 'VV'), ('었', 'EPT'), ('습니다', 'EFN'), ('.', 'SF'), ('\\\\', 'SW'), ('n', 'OL'), ('“', 'SS'), ('그거', 'NP'), ('누구', 'NP'), ('이', 'VCP'), ('요', 'EFN'), ('?', 'SF'), ('”', 'SS'), ('\\\\', 'SW'), ('n', 'OL'), ('“', 'SS'), ('그거', 'NP'), ('누구', 'NP'), ('이', 'VCP'), ('요', 'EFN'), ('?', 'SF'), ('”', 'SS'), ('\\\\', 'SW'), ('n', 'OL'), ('\\\\', 'SW'), ('n', 'OL'), ('둘', 'NNG'), ('이', 'JKS'), ('맞닥뜨리', 'VV'), ('자', 'ECE'), ('양쪽', 'NNG'), ('에서', 'JKM'), ('똑같이', 'MAG'), ('이렇', 'VA'), ('게', 'ECD'), ('묻', 'VV'), ('고', 'ECE'), ('보', 'VXV'), ('니까', 'ECD'), (',', 'SP'), ('저편', 'NP'), ('에서', 'JKM'), ('오', 'VV'), ('는', 'ETD'), ('것', 'NNB'), ('\\\\', 'SW'), ('n', 'OL'), ('은', 'JX'), ('형님', 'NNG'), ('이', 'VCP'), ('었', 'EPT'), ('습니다', 'EFN'), ('.', 'SF'), ('\\\\', 'SW'), ('n', 'OL'), ('형님', 'NNG'), ('역시', 'MAG'), ('동생', 'NNG'), ('생각', 'NNG'), ('을', 'JKO'), ('하', 'VV'), ('고', 'ECE'), (',', 'SP'), ('밤', 'NNG'), ('에', 'JKM'), ('넌지시', 'MAG'), ('나오', 'VV'), ('아서', 'ECD'), (',', 'SP'), ('자기', 'NNG'), ('논의', 'NNG'), ('벼르', 'VV'), ('ㄹ', 'ETD'), ('여러', 'MDT'), ('\\\\', 'SW'), ('n', 'OL'), ('짐', 'NNG'), ('지', 'VV'), ('어', 'ECS'), ('다그', 'VV'), ('아', 'ECS'), ('동생', 'NNG'), ('의', 'JKG'), ('논', 'NNG'), ('에', 'JKM'), ('놓', 'VV'), ('아', 'ECD'), ('주', 'VXV'), ('었', 'EPT'), ('더니', 'ECD'), ('이튿날', 'NNG'), ('보', 'VV'), ('니까', 'ECD'), ('자기', 'NP'), ('벼', 'NNG'), ('가', 'JKS'), ('적어지', 'VV'), ('지', 'ECD'), ('도', 'JX'), ('\\\\', 'SW'), ('n', 'OL'), ('않', 'VXV'), ('고', 'ECE'), (',', 'SP'), ('동생', 'NNG'), ('의', 'JKG'), ('벼', 'NNG'), ('가', 'JKS'), ('늘', 'VV'), ('ㄹ지', 'ECD'), ('도', 'JX'), ('않', 'VXV'), ('았', 'EPT'), ('으므로', 'ECD'), (',', 'SP'), ('이상히', 'MAG'), ('여기', 'VV'), ('어', 'ECS'), ('밤', 'NNG'), ('마다', 'JX'), ('넌지시', 'MAG'), ('옮기', 'VV'), ('다', 'ECS'), ('\\\\', 'SW'), ('n', 'OL'), ('가', 'JKS'), ('이날', 'NNG'), ('은', 'JX'), ('공교', 'XR'), ('롭', 'XSA'), ('게', 'ECD'), ('둘', 'NNG'), ('이', 'JKS'), ('맞닥뜨리', 'VV'), ('ㄴ', 'ETD'), ('것', 'NNB'), ('이', 'VCP'), ('었', 'EPT'), ('습니다', 'EFN'), ('.', 'SF'), ('\\\\', 'SW'), ('n', 'OL'), ('그리하', 'VV'), ('여', 'ECS'), (',', 'SP'), ('형제', 'NNG'), ('는', 'JX'), ('서로', 'NNG'), ('저편', 'NP'), ('의', 'JKG'), ('뜻', 'NNG'), ('을', 'JKO'), ('감사히', 'MAG'), ('받', 'VV'), ('기', 'ETN'), ('위하', 'VV'), ('여', 'ECS'), ('날', 'NNG'), ('마다', 'JX'), ('옮기', 'VV'), ('어', 'ECS'), ('나', 'NNG'), ('르', 'NNG'), ('\\\\', 'SW'), ('n', 'OL'), ('덜', 'VV'), ('ㄴ', 'ETD'), ('벼', 'NNG'), ('를', 'JKO'), ('서로', 'MAG'), ('교환', 'NNG'), ('하', 'XSV'), ('며', 'ECE'), ('먹', 'VV'), ('었', 'EPT'), ('습니다', 'EFN'), ('.', 'SF'), ('\\\\', 'SW'), ('n', 'OL'), ('〈', 'SS'), ('《', 'SS'), ('어린이', 'NNG'), ('》', 'SS'), ('7', 'NR'), ('권', 'NNM'), ('8', 'NR'), ('호', 'NNM'), (',', 'SP'), ('1929', 'NR'), ('년', 'NNM'), ('가을', 'NNG'), ('특집호', 'NNG'), (',', 'SP'), ('방정환', 'NNG'), ('〉', 'SS'), ('\\\\', 'SW'), ('n', 'OL')]\n",
            "꼬꼬마 명사 추출 : ['농사', '가을', '만곡', '농가', '마음', '벼', '성', '이도', '동네', '사람', '조력', '자기', '논', '덕', '며칠간', '햇볕', '작정', '나', '식구', '염려', '형님', '금', '년', '풍년', '지', '해', '시기', '곤란', '터', '하루', '생각', '오', '밤중', '내', '논의', '다가', '논두렁', '겠다', '날', '밤', '동리', '잠들기', '지게', '자기', '차례', '보태', '이상', '일', '이튿날', '조금', '전', '어젯밤', '짐', '이', '웬일', '거기', '습', '니', '꿈', '온종일', '귀신', '장난', '까닭', '형', '님', '별', '하나', '구렁', '길바닥', '저편', '언지', '이쪽', '발', '그거', '누구', '둘', '양쪽', '동생', '이날', '형제', '서로', '뜻', '나', '나르', '르', '교환', '어린이', '7', '7권', '권', '8', '8호', '호', '1929', '1929년', '년', '특집호', '방정환']\n"
          ]
        }
      ]
    }
  ]
}