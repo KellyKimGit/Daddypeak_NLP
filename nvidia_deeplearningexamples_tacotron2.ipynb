{
  "cells": [
    {
      "cell_type": "markdown",
      "metadata": {
        "id": "view-in-github",
        "colab_type": "text"
      },
      "source": [
        "<a href=\"https://colab.research.google.com/github/KellyKimGit/Daddypeak_NLP/blob/main/nvidia_deeplearningexamples_tacotron2.ipynb\" target=\"_parent\"><img src=\"https://colab.research.google.com/assets/colab-badge.svg\" alt=\"Open In Colab\"/></a>"
      ]
    },
    {
      "cell_type": "markdown",
      "id": "4ef4b879",
      "metadata": {
        "id": "4ef4b879"
      },
      "source": [
        "### This notebook requires a GPU runtime to run.\n",
        "### Please select the menu option \"Runtime\" -> \"Change runtime type\", select \"Hardware Accelerator\" -> \"GPU\" and click \"SAVE\"\n",
        "\n",
        "----------------------------------------------------------------------\n",
        "\n",
        "# Tacotron 2\n",
        "\n",
        "*Author: NVIDIA*\n",
        "\n",
        "**The Tacotron 2 model for generating mel spectrograms from text**\n",
        "\n",
        "<img src=\"https://pytorch.org/assets/images/tacotron2_diagram.png\" alt=\"alt\" width=\"50%\"/>\n",
        "\n",
        "\n",
        "\n",
        "### Model Description\n",
        "\n",
        "The Tacotron 2 and WaveGlow model form a text-to-speech system that enables user to synthesise a natural sounding speech from raw transcripts without any additional prosody information. The Tacotron 2 model produces mel spectrograms from input text using encoder-decoder architecture. WaveGlow (also available via torch.hub) is a flow-based model that consumes the mel spectrograms to generate speech.\n",
        "\n",
        "This implementation of Tacotron 2 model differs from the model described in the paper. Our implementation uses Dropout instead of Zoneout to regularize the LSTM layers.\n",
        "\n",
        "### Example\n",
        "\n",
        "In the example below:\n",
        "- pretrained Tacotron2 and Waveglow models are loaded from torch.hub\n",
        "- Given a tensor representation of the input text (\"Hello world, I missed you so much\"), Tacotron2 generates a Mel spectrogram as shown on the illustration\n",
        "- Waveglow generates sound given the mel spectrogram\n",
        "- the output sound is saved in an 'audio.wav' file\n",
        "\n",
        "To run the example you need some extra python packages installed.\n",
        "These are needed for preprocessing the text and audio, as well as for display and input / output."
      ]
    },
    {
      "cell_type": "code",
      "execution_count": null,
      "id": "8c18d692",
      "metadata": {
        "id": "8c18d692",
        "outputId": "9af87f16-8c47-444d-fe52-a711b52623f8",
        "colab": {
          "base_uri": "https://localhost:8080/"
        }
      },
      "outputs": [
        {
          "output_type": "stream",
          "name": "stdout",
          "text": [
            "Requirement already satisfied: numpy in /usr/local/lib/python3.10/dist-packages (1.22.4)\n",
            "Requirement already satisfied: scipy in /usr/local/lib/python3.10/dist-packages (1.10.1)\n",
            "Requirement already satisfied: librosa in /usr/local/lib/python3.10/dist-packages (0.10.0.post2)\n",
            "Collecting unidecode\n",
            "  Downloading Unidecode-1.3.6-py3-none-any.whl (235 kB)\n",
            "     ━━━━━━━━━━━━━━━━━━━━━━━━━━━━━━━━━━━━━━━ 235.9/235.9 kB 4.2 MB/s eta 0:00:00\n",
            "Requirement already satisfied: inflect in /usr/local/lib/python3.10/dist-packages (6.0.5)\n",
            "Requirement already satisfied: audioread>=2.1.9 in /usr/local/lib/python3.10/dist-packages (from librosa) (3.0.0)\n",
            "Requirement already satisfied: scikit-learn>=0.20.0 in /usr/local/lib/python3.10/dist-packages (from librosa) (1.2.2)\n",
            "Requirement already satisfied: joblib>=0.14 in /usr/local/lib/python3.10/dist-packages (from librosa) (1.3.1)\n",
            "Requirement already satisfied: decorator>=4.3.0 in /usr/local/lib/python3.10/dist-packages (from librosa) (4.4.2)\n",
            "Requirement already satisfied: numba>=0.51.0 in /usr/local/lib/python3.10/dist-packages (from librosa) (0.56.4)\n",
            "Requirement already satisfied: soundfile>=0.12.1 in /usr/local/lib/python3.10/dist-packages (from librosa) (0.12.1)\n",
            "Requirement already satisfied: pooch<1.7,>=1.0 in /usr/local/lib/python3.10/dist-packages (from librosa) (1.6.0)\n",
            "Requirement already satisfied: soxr>=0.3.2 in /usr/local/lib/python3.10/dist-packages (from librosa) (0.3.5)\n",
            "Requirement already satisfied: typing-extensions>=4.1.1 in /usr/local/lib/python3.10/dist-packages (from librosa) (4.7.1)\n",
            "Requirement already satisfied: lazy-loader>=0.1 in /usr/local/lib/python3.10/dist-packages (from librosa) (0.3)\n",
            "Requirement already satisfied: msgpack>=1.0 in /usr/local/lib/python3.10/dist-packages (from librosa) (1.0.5)\n",
            "Requirement already satisfied: pydantic<2,>=1.9.1 in /usr/local/lib/python3.10/dist-packages (from inflect) (1.10.12)\n",
            "Requirement already satisfied: llvmlite<0.40,>=0.39.0dev0 in /usr/local/lib/python3.10/dist-packages (from numba>=0.51.0->librosa) (0.39.1)\n",
            "Requirement already satisfied: setuptools in /usr/local/lib/python3.10/dist-packages (from numba>=0.51.0->librosa) (67.7.2)\n",
            "Requirement already satisfied: appdirs>=1.3.0 in /usr/local/lib/python3.10/dist-packages (from pooch<1.7,>=1.0->librosa) (1.4.4)\n",
            "Requirement already satisfied: packaging>=20.0 in /usr/local/lib/python3.10/dist-packages (from pooch<1.7,>=1.0->librosa) (23.1)\n",
            "Requirement already satisfied: requests>=2.19.0 in /usr/local/lib/python3.10/dist-packages (from pooch<1.7,>=1.0->librosa) (2.27.1)\n",
            "Requirement already satisfied: threadpoolctl>=2.0.0 in /usr/local/lib/python3.10/dist-packages (from scikit-learn>=0.20.0->librosa) (3.2.0)\n",
            "Requirement already satisfied: cffi>=1.0 in /usr/local/lib/python3.10/dist-packages (from soundfile>=0.12.1->librosa) (1.15.1)\n",
            "Requirement already satisfied: pycparser in /usr/local/lib/python3.10/dist-packages (from cffi>=1.0->soundfile>=0.12.1->librosa) (2.21)\n",
            "Requirement already satisfied: urllib3<1.27,>=1.21.1 in /usr/local/lib/python3.10/dist-packages (from requests>=2.19.0->pooch<1.7,>=1.0->librosa) (1.26.16)\n",
            "Requirement already satisfied: certifi>=2017.4.17 in /usr/local/lib/python3.10/dist-packages (from requests>=2.19.0->pooch<1.7,>=1.0->librosa) (2023.7.22)\n",
            "Requirement already satisfied: charset-normalizer~=2.0.0 in /usr/local/lib/python3.10/dist-packages (from requests>=2.19.0->pooch<1.7,>=1.0->librosa) (2.0.12)\n",
            "Requirement already satisfied: idna<4,>=2.5 in /usr/local/lib/python3.10/dist-packages (from requests>=2.19.0->pooch<1.7,>=1.0->librosa) (3.4)\n",
            "Installing collected packages: unidecode\n",
            "Successfully installed unidecode-1.3.6\n",
            "Get:1 https://cloud.r-project.org/bin/linux/ubuntu jammy-cran40/ InRelease [3,626 B]\n",
            "Hit:2 http://archive.ubuntu.com/ubuntu jammy InRelease\n",
            "Get:3 http://security.ubuntu.com/ubuntu jammy-security InRelease [110 kB]\n",
            "Hit:4 https://developer.download.nvidia.com/compute/cuda/repos/ubuntu2204/x86_64  InRelease\n",
            "Get:5 http://archive.ubuntu.com/ubuntu jammy-updates InRelease [119 kB]\n",
            "Get:6 http://archive.ubuntu.com/ubuntu jammy-backports InRelease [108 kB]\n",
            "Get:7 http://archive.ubuntu.com/ubuntu jammy-updates/universe amd64 Packages [1,230 kB]\n",
            "Hit:8 https://ppa.launchpadcontent.net/c2d4u.team/c2d4u4.0+/ubuntu jammy InRelease\n",
            "Get:9 http://archive.ubuntu.com/ubuntu jammy-updates/main amd64 Packages [1,087 kB]\n",
            "Get:10 http://archive.ubuntu.com/ubuntu jammy-backports/universe amd64 Packages [25.6 kB]\n",
            "Hit:11 https://ppa.launchpadcontent.net/deadsnakes/ppa/ubuntu jammy InRelease\n",
            "Hit:12 https://ppa.launchpadcontent.net/graphics-drivers/ppa/ubuntu jammy InRelease\n",
            "Hit:13 https://ppa.launchpadcontent.net/ubuntugis/ppa/ubuntu jammy InRelease\n",
            "Fetched 2,683 kB in 3s (1,071 kB/s)\n",
            "Reading package lists...\n",
            "Reading package lists...\n",
            "Building dependency tree...\n",
            "Reading state information...\n",
            "libsndfile1 is already the newest version (1.0.31-2build1).\n",
            "0 upgraded, 0 newly installed, 0 to remove and 12 not upgraded.\n"
          ]
        }
      ],
      "source": [
        "%%bash\n",
        "pip install numpy scipy librosa unidecode inflect librosa\n",
        "apt-get update\n",
        "apt-get install -y libsndfile1"
      ]
    },
    {
      "cell_type": "markdown",
      "id": "ac770607",
      "metadata": {
        "id": "ac770607"
      },
      "source": [
        "Load the Tacotron2 model pre-trained on [LJ Speech dataset](https://keithito.com/LJ-Speech-Dataset/) and prepare it for inference:"
      ]
    },
    {
      "cell_type": "code",
      "execution_count": null,
      "id": "9c757243",
      "metadata": {
        "id": "9c757243",
        "outputId": "b8dc6991-c5f2-483e-a68b-46f83ce15f2f",
        "colab": {
          "base_uri": "https://localhost:8080/"
        }
      },
      "outputs": [
        {
          "output_type": "stream",
          "name": "stderr",
          "text": [
            "Using cache found in /root/.cache/torch/hub/NVIDIA_DeepLearningExamples_torchhub\n"
          ]
        },
        {
          "output_type": "execute_result",
          "data": {
            "text/plain": [
              "Tacotron2(\n",
              "  (embedding): Embedding(148, 512)\n",
              "  (encoder): Encoder(\n",
              "    (convolutions): ModuleList(\n",
              "      (0-2): 3 x Sequential(\n",
              "        (0): ConvNorm(\n",
              "          (conv): Conv1d(512, 512, kernel_size=(5,), stride=(1,), padding=(2,))\n",
              "        )\n",
              "        (1): BatchNorm1d(512, eps=1e-05, momentum=0.1, affine=True, track_running_stats=True)\n",
              "      )\n",
              "    )\n",
              "    (lstm): LSTM(512, 256, batch_first=True, bidirectional=True)\n",
              "  )\n",
              "  (decoder): Decoder(\n",
              "    (prenet): Prenet(\n",
              "      (layers): ModuleList(\n",
              "        (0): LinearNorm(\n",
              "          (linear_layer): Linear(in_features=80, out_features=256, bias=False)\n",
              "        )\n",
              "        (1): LinearNorm(\n",
              "          (linear_layer): Linear(in_features=256, out_features=256, bias=False)\n",
              "        )\n",
              "      )\n",
              "    )\n",
              "    (attention_rnn): LSTMCell(768, 1024)\n",
              "    (attention_layer): Attention(\n",
              "      (query_layer): LinearNorm(\n",
              "        (linear_layer): Linear(in_features=1024, out_features=128, bias=False)\n",
              "      )\n",
              "      (memory_layer): LinearNorm(\n",
              "        (linear_layer): Linear(in_features=512, out_features=128, bias=False)\n",
              "      )\n",
              "      (v): LinearNorm(\n",
              "        (linear_layer): Linear(in_features=128, out_features=1, bias=False)\n",
              "      )\n",
              "      (location_layer): LocationLayer(\n",
              "        (location_conv): ConvNorm(\n",
              "          (conv): Conv1d(2, 32, kernel_size=(31,), stride=(1,), padding=(15,), bias=False)\n",
              "        )\n",
              "        (location_dense): LinearNorm(\n",
              "          (linear_layer): Linear(in_features=32, out_features=128, bias=False)\n",
              "        )\n",
              "      )\n",
              "    )\n",
              "    (decoder_rnn): LSTMCell(1536, 1024, bias=1)\n",
              "    (linear_projection): LinearNorm(\n",
              "      (linear_layer): Linear(in_features=1536, out_features=80, bias=True)\n",
              "    )\n",
              "    (gate_layer): LinearNorm(\n",
              "      (linear_layer): Linear(in_features=1536, out_features=1, bias=True)\n",
              "    )\n",
              "  )\n",
              "  (postnet): Postnet(\n",
              "    (convolutions): ModuleList(\n",
              "      (0): Sequential(\n",
              "        (0): ConvNorm(\n",
              "          (conv): Conv1d(80, 512, kernel_size=(5,), stride=(1,), padding=(2,))\n",
              "        )\n",
              "        (1): BatchNorm1d(512, eps=1e-05, momentum=0.1, affine=True, track_running_stats=True)\n",
              "      )\n",
              "      (1-3): 3 x Sequential(\n",
              "        (0): ConvNorm(\n",
              "          (conv): Conv1d(512, 512, kernel_size=(5,), stride=(1,), padding=(2,))\n",
              "        )\n",
              "        (1): BatchNorm1d(512, eps=1e-05, momentum=0.1, affine=True, track_running_stats=True)\n",
              "      )\n",
              "      (4): Sequential(\n",
              "        (0): ConvNorm(\n",
              "          (conv): Conv1d(512, 80, kernel_size=(5,), stride=(1,), padding=(2,))\n",
              "        )\n",
              "        (1): BatchNorm1d(80, eps=1e-05, momentum=0.1, affine=True, track_running_stats=True)\n",
              "      )\n",
              "    )\n",
              "  )\n",
              ")"
            ]
          },
          "metadata": {},
          "execution_count": 10
        }
      ],
      "source": [
        "import torch\n",
        "tacotron2 = torch.hub.load('NVIDIA/DeepLearningExamples:torchhub', 'nvidia_tacotron2', model_math='fp16', language='ko');\n",
        "\n",
        "tacotron2 = tacotron2.to('cuda')\n",
        "tacotron2.eval()"
      ]
    },
    {
      "cell_type": "markdown",
      "id": "4a2cc0b3",
      "metadata": {
        "id": "4a2cc0b3"
      },
      "source": [
        "Load pretrained WaveGlow model"
      ]
    },
    {
      "cell_type": "code",
      "execution_count": null,
      "id": "0b9cc88f",
      "metadata": {
        "id": "0b9cc88f",
        "outputId": "3884529e-2a3f-4dbe-d05f-c20f2fe7e204",
        "colab": {
          "base_uri": "https://localhost:8080/"
        }
      },
      "outputs": [
        {
          "output_type": "stream",
          "name": "stderr",
          "text": [
            "Using cache found in /root/.cache/torch/hub/NVIDIA_DeepLearningExamples_torchhub\n"
          ]
        },
        {
          "output_type": "execute_result",
          "data": {
            "text/plain": [
              "WaveGlow(\n",
              "  (upsample): ConvTranspose1d(80, 80, kernel_size=(1024,), stride=(256,))\n",
              "  (WN): ModuleList(\n",
              "    (0-3): 4 x WN(\n",
              "      (in_layers): ModuleList(\n",
              "        (0): Conv1d(512, 1024, kernel_size=(3,), stride=(1,), padding=(1,))\n",
              "        (1): Conv1d(512, 1024, kernel_size=(3,), stride=(1,), padding=(2,), dilation=(2,))\n",
              "        (2): Conv1d(512, 1024, kernel_size=(3,), stride=(1,), padding=(4,), dilation=(4,))\n",
              "        (3): Conv1d(512, 1024, kernel_size=(3,), stride=(1,), padding=(8,), dilation=(8,))\n",
              "        (4): Conv1d(512, 1024, kernel_size=(3,), stride=(1,), padding=(16,), dilation=(16,))\n",
              "        (5): Conv1d(512, 1024, kernel_size=(3,), stride=(1,), padding=(32,), dilation=(32,))\n",
              "        (6): Conv1d(512, 1024, kernel_size=(3,), stride=(1,), padding=(64,), dilation=(64,))\n",
              "        (7): Conv1d(512, 1024, kernel_size=(3,), stride=(1,), padding=(128,), dilation=(128,))\n",
              "      )\n",
              "      (res_skip_layers): ModuleList(\n",
              "        (0-6): 7 x Conv1d(512, 1024, kernel_size=(1,), stride=(1,))\n",
              "        (7): Conv1d(512, 512, kernel_size=(1,), stride=(1,))\n",
              "      )\n",
              "      (cond_layers): ModuleList(\n",
              "        (0-7): 8 x Conv1d(640, 1024, kernel_size=(1,), stride=(1,))\n",
              "      )\n",
              "      (start): Conv1d(4, 512, kernel_size=(1,), stride=(1,))\n",
              "      (end): Conv1d(512, 8, kernel_size=(1,), stride=(1,))\n",
              "    )\n",
              "    (4-7): 4 x WN(\n",
              "      (in_layers): ModuleList(\n",
              "        (0): Conv1d(512, 1024, kernel_size=(3,), stride=(1,), padding=(1,))\n",
              "        (1): Conv1d(512, 1024, kernel_size=(3,), stride=(1,), padding=(2,), dilation=(2,))\n",
              "        (2): Conv1d(512, 1024, kernel_size=(3,), stride=(1,), padding=(4,), dilation=(4,))\n",
              "        (3): Conv1d(512, 1024, kernel_size=(3,), stride=(1,), padding=(8,), dilation=(8,))\n",
              "        (4): Conv1d(512, 1024, kernel_size=(3,), stride=(1,), padding=(16,), dilation=(16,))\n",
              "        (5): Conv1d(512, 1024, kernel_size=(3,), stride=(1,), padding=(32,), dilation=(32,))\n",
              "        (6): Conv1d(512, 1024, kernel_size=(3,), stride=(1,), padding=(64,), dilation=(64,))\n",
              "        (7): Conv1d(512, 1024, kernel_size=(3,), stride=(1,), padding=(128,), dilation=(128,))\n",
              "      )\n",
              "      (res_skip_layers): ModuleList(\n",
              "        (0-6): 7 x Conv1d(512, 1024, kernel_size=(1,), stride=(1,))\n",
              "        (7): Conv1d(512, 512, kernel_size=(1,), stride=(1,))\n",
              "      )\n",
              "      (cond_layers): ModuleList(\n",
              "        (0-7): 8 x Conv1d(640, 1024, kernel_size=(1,), stride=(1,))\n",
              "      )\n",
              "      (start): Conv1d(3, 512, kernel_size=(1,), stride=(1,))\n",
              "      (end): Conv1d(512, 6, kernel_size=(1,), stride=(1,))\n",
              "    )\n",
              "    (8-11): 4 x WN(\n",
              "      (in_layers): ModuleList(\n",
              "        (0): Conv1d(512, 1024, kernel_size=(3,), stride=(1,), padding=(1,))\n",
              "        (1): Conv1d(512, 1024, kernel_size=(3,), stride=(1,), padding=(2,), dilation=(2,))\n",
              "        (2): Conv1d(512, 1024, kernel_size=(3,), stride=(1,), padding=(4,), dilation=(4,))\n",
              "        (3): Conv1d(512, 1024, kernel_size=(3,), stride=(1,), padding=(8,), dilation=(8,))\n",
              "        (4): Conv1d(512, 1024, kernel_size=(3,), stride=(1,), padding=(16,), dilation=(16,))\n",
              "        (5): Conv1d(512, 1024, kernel_size=(3,), stride=(1,), padding=(32,), dilation=(32,))\n",
              "        (6): Conv1d(512, 1024, kernel_size=(3,), stride=(1,), padding=(64,), dilation=(64,))\n",
              "        (7): Conv1d(512, 1024, kernel_size=(3,), stride=(1,), padding=(128,), dilation=(128,))\n",
              "      )\n",
              "      (res_skip_layers): ModuleList(\n",
              "        (0-6): 7 x Conv1d(512, 1024, kernel_size=(1,), stride=(1,))\n",
              "        (7): Conv1d(512, 512, kernel_size=(1,), stride=(1,))\n",
              "      )\n",
              "      (cond_layers): ModuleList(\n",
              "        (0-7): 8 x Conv1d(640, 1024, kernel_size=(1,), stride=(1,))\n",
              "      )\n",
              "      (start): Conv1d(2, 512, kernel_size=(1,), stride=(1,))\n",
              "      (end): Conv1d(512, 4, kernel_size=(1,), stride=(1,))\n",
              "    )\n",
              "  )\n",
              "  (convinv): ModuleList(\n",
              "    (0-3): 4 x Invertible1x1Conv(\n",
              "      (conv): Conv1d(8, 8, kernel_size=(1,), stride=(1,), bias=False)\n",
              "    )\n",
              "    (4-7): 4 x Invertible1x1Conv(\n",
              "      (conv): Conv1d(6, 6, kernel_size=(1,), stride=(1,), bias=False)\n",
              "    )\n",
              "    (8-11): 4 x Invertible1x1Conv(\n",
              "      (conv): Conv1d(4, 4, kernel_size=(1,), stride=(1,), bias=False)\n",
              "    )\n",
              "  )\n",
              ")"
            ]
          },
          "metadata": {},
          "execution_count": 11
        }
      ],
      "source": [
        "waveglow = torch.hub.load('NVIDIA/DeepLearningExamples:torchhub', 'nvidia_waveglow', model_math='fp16', language='ko');\n",
        "\n",
        "waveglow = waveglow.remove_weightnorm(waveglow)\n",
        "waveglow = waveglow.to('cuda')\n",
        "waveglow.eval()"
      ]
    },
    {
      "cell_type": "markdown",
      "id": "ca55452b",
      "metadata": {
        "id": "ca55452b"
      },
      "source": [
        "Now, let's make the model say:"
      ]
    },
    {
      "cell_type": "code",
      "execution_count": null,
      "id": "148f486a",
      "metadata": {
        "id": "148f486a"
      },
      "outputs": [],
      "source": [
        "text = \"한국어 음성 테스트 중입니다\""
      ]
    },
    {
      "cell_type": "markdown",
      "id": "2369f552",
      "metadata": {
        "id": "2369f552"
      },
      "source": [
        "Format the input using utility methods"
      ]
    },
    {
      "cell_type": "code",
      "execution_count": null,
      "id": "70134773",
      "metadata": {
        "id": "70134773",
        "outputId": "93cf53a1-6190-4cb0-e78b-ee214be093c8",
        "colab": {
          "base_uri": "https://localhost:8080/"
        }
      },
      "outputs": [
        {
          "output_type": "stream",
          "name": "stderr",
          "text": [
            "Using cache found in /root/.cache/torch/hub/NVIDIA_DeepLearningExamples_torchhub\n"
          ]
        }
      ],
      "source": [
        "utils = torch.hub.load('NVIDIA/DeepLearningExamples:torchhub', 'nvidia_tts_utils')\n",
        "sequences, lengths = utils.prepare_input_sequence([text])"
      ]
    },
    {
      "cell_type": "markdown",
      "id": "7a2d126a",
      "metadata": {
        "id": "7a2d126a"
      },
      "source": [
        "Run the chained models:"
      ]
    },
    {
      "cell_type": "code",
      "execution_count": null,
      "id": "95dec447",
      "metadata": {
        "id": "95dec447"
      },
      "outputs": [],
      "source": [
        "with torch.no_grad():\n",
        "    mel, _, _ = tacotron2.infer(sequences, lengths)\n",
        "    audio = waveglow.infer(mel)\n",
        "audio_numpy = audio[0].data.cpu().numpy()\n",
        "rate = 22050"
      ]
    },
    {
      "cell_type": "markdown",
      "id": "348cebea",
      "metadata": {
        "id": "348cebea"
      },
      "source": [
        "You can write it to a file and listen to it"
      ]
    },
    {
      "cell_type": "code",
      "execution_count": null,
      "id": "fa26b8fe",
      "metadata": {
        "id": "fa26b8fe"
      },
      "outputs": [],
      "source": [
        "from scipy.io.wavfile import write\n",
        "write(\"audio.wav\", rate, audio_numpy)"
      ]
    },
    {
      "cell_type": "markdown",
      "id": "79ddd10a",
      "metadata": {
        "id": "79ddd10a"
      },
      "source": [
        "Alternatively, play it right away in a notebook with IPython widgets"
      ]
    },
    {
      "cell_type": "code",
      "execution_count": null,
      "id": "8eae02e4",
      "metadata": {
        "id": "8eae02e4",
        "outputId": "8ee4d5ec-5fa9-40f2-e28a-7208420d33d2",
        "colab": {
          "base_uri": "https://localhost:8080/",
          "height": 74
        }
      },
      "outputs": [
        {
          "output_type": "execute_result",
          "data": {
            "text/plain": [
              "<IPython.lib.display.Audio object>"
            ],
            "text/html": [
              "\n",
              "                <audio  controls=\"controls\" >\n",
              "                    <source src=\"data:audio/wav;base64,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\" type=\"audio/wav\" />\n",
              "                    Your browser does not support the audio element.\n",
              "                </audio>\n",
              "              "
            ]
          },
          "metadata": {},
          "execution_count": 24
        }
      ],
      "source": [
        "from IPython.display import Audio\n",
        "Audio(audio_numpy, rate=rate)"
      ]
    },
    {
      "cell_type": "markdown",
      "id": "cba455fb",
      "metadata": {
        "id": "cba455fb"
      },
      "source": [
        "### Details\n",
        "For detailed information on model input and output, training recipies, inference and performance visit: [github](https://github.com/NVIDIA/DeepLearningExamples/tree/master/PyTorch/SpeechSynthesis/Tacotron2) and/or [NGC](https://ngc.nvidia.com/catalog/resources/nvidia:tacotron_2_and_waveglow_for_pytorch)\n",
        "\n",
        "### References\n",
        "\n",
        " - [Natural TTS Synthesis by Conditioning WaveNet on Mel Spectrogram Predictions](https://arxiv.org/abs/1712.05884)\n",
        " - [WaveGlow: A Flow-based Generative Network for Speech Synthesis](https://arxiv.org/abs/1811.00002)\n",
        " - [Tacotron2 and WaveGlow on NGC](https://ngc.nvidia.com/catalog/resources/nvidia:tacotron_2_and_waveglow_for_pytorch)\n",
        " - [Tacotron2 and Waveglow on github](https://github.com/NVIDIA/DeepLearningExamples/tree/master/PyTorch/SpeechSynthesis/Tacotron2)"
      ]
    }
  ],
  "metadata": {
    "colab": {
      "provenance": [],
      "gpuType": "T4",
      "include_colab_link": true
    },
    "language_info": {
      "name": "python"
    },
    "kernelspec": {
      "name": "python3",
      "display_name": "Python 3"
    },
    "accelerator": "GPU"
  },
  "nbformat": 4,
  "nbformat_minor": 5
}