{
  "nbformat": 4,
  "nbformat_minor": 0,
  "metadata": {
    "colab": {
      "provenance": []
    },
    "kernelspec": {
      "name": "python3",
      "display_name": "Python 3"
    },
    "language_info": {
      "name": "python"
    }
  },
  "cells": [
    {
      "cell_type": "markdown",
      "source": [
        "### **자연어처리를 위한 텍스트 토큰화**"
      ],
      "metadata": {
        "id": "M1ls46Nvt7-P"
      }
    },
    {
      "cell_type": "markdown",
      "source": [
        "**[참고자료]**\n",
        "\n",
        "https://wikidocs.net/21698\n",
        "\n",
        "csv 텍스트 처리\n",
        "\n",
        "https://velog.io/@dltjrdud37/%ED%95%9C%EA%B5%AD%EC%96%B4-%ED%86%A0%ED%81%B0%ED%99%94by-konlpy-%EB%8B%A8%EC%96%B4%EC%9E%84%EB%B2%A0%EB%94%A9Word2Vec"
      ],
      "metadata": {
        "id": "ZzqCCobyu6vr"
      }
    },
    {
      "cell_type": "code",
      "source": [
        "import numpy as np\n",
        "import pandas as pd\n",
        "import io\n",
        "import re"
      ],
      "metadata": {
        "id": "Su75FbvW1HQC"
      },
      "execution_count": null,
      "outputs": []
    },
    {
      "cell_type": "code",
      "source": [
        "# 텍스트 내용(csv 파일) 불러오기\n",
        "data = pd.read_csv(\"/content/test_의좋은형제.csv\")\n",
        "data.head()"
      ],
      "metadata": {
        "id": "5M4eM9mk1NCV"
      },
      "execution_count": null,
      "outputs": []
    },
    {
      "cell_type": "code",
      "execution_count": null,
      "metadata": {
        "id": "r7gYIR7Ssj-0"
      },
      "outputs": [],
      "source": [
        "# konlpy 설치\n",
        "! pip install konlpy\n",
        "from konlpy.tag import Hannanum, Kkma, Komoran, Mecab, Okt"
      ]
    },
    {
      "cell_type": "code",
      "source": [
        "# csv 파일 지정\n",
        "text = pd.read_csv(\"/content/test_의좋은형제.csv\").to_string(columns=['Unnamed: 0'])"
      ],
      "metadata": {
        "id": "Nj2YdDeqFSGe"
      },
      "execution_count": null,
      "outputs": []
    },
    {
      "cell_type": "code",
      "source": [
        "# okt를 사용한 형태소 분석\n",
        "from konlpy.tag import Okt\n",
        "\n",
        "okt = Okt()\n",
        "\n",
        "print('OKT 형태소 분석 :',okt.morphs(text))\n",
        "print('OKT 품사 태깅 :',okt.pos(text))\n",
        "print('OKT 명사 추출 :',okt.nouns(text))"
      ],
      "metadata": {
        "id": "wy5ka6Idt7mx"
      },
      "execution_count": null,
      "outputs": []
    },
    {
      "cell_type": "code",
      "source": [
        "# 꼬꼬마를 사용한 형태소 분석\n",
        "from konlpy.tag import Kkma\n",
        "\n",
        "kkma = Kkma()\n",
        "\n",
        "print('꼬꼬마 형태소 분석 :',kkma.morphs(text))\n",
        "print('꼬꼬마 품사 태깅 :',kkma.pos(text))\n",
        "print('꼬꼬마 명사 추출 :',kkma.nouns(text))"
      ],
      "metadata": {
        "id": "z4FUB3ZAuYeg"
      },
      "execution_count": null,
      "outputs": []
    }
  ]
}